{
 "cells": [
  {
   "cell_type": "code",
   "execution_count": 1,
   "id": "2e197136-69b3-476c-b2a5-3d0d5b654962",
   "metadata": {},
   "outputs": [
    {
     "name": "stderr",
     "output_type": "stream",
     "text": [
      "2023-08-04 09:27:42.296595: I tensorflow/tsl/cuda/cudart_stub.cc:28] Could not find cuda drivers on your machine, GPU will not be used.\n",
      "2023-08-04 09:27:42.395942: I tensorflow/tsl/cuda/cudart_stub.cc:28] Could not find cuda drivers on your machine, GPU will not be used.\n",
      "2023-08-04 09:27:42.398646: I tensorflow/core/platform/cpu_feature_guard.cc:182] This TensorFlow binary is optimized to use available CPU instructions in performance-critical operations.\n",
      "To enable the following instructions: AVX2 FMA, in other operations, rebuild TensorFlow with the appropriate compiler flags.\n",
      "2023-08-04 09:27:43.987739: W tensorflow/compiler/tf2tensorrt/utils/py_utils.cc:38] TF-TRT Warning: Could not find TensorRT\n"
     ]
    }
   ],
   "source": [
    "import pandas as pd \n",
    "import numpy as np \n",
    "from matplotlib import pyplot as plt\n",
    "import seaborn as sns\n",
    "\n",
    "plt.style.use('ggplot')\n",
    "\n",
    "import os \n",
    "import random\n",
    "from PIL import Image\n",
    "\n",
    "from sklearn.model_selection import train_test_split\n",
    "from sklearn.metrics import confusion_matrix, classification_report\n",
    "from sklearn.preprocessing import LabelBinarizer\n",
    "from tensorflow.keras.models import Sequential\n",
    "from tensorflow.keras.layers import Dense, Flatten, Conv2D, MaxPooling2D, Dropout\n",
    "from keras.optimizers import Adamax\n",
    "from tensorflow.keras.losses import categorical_crossentropy\n",
    "import cv2\n",
    "\n",
    "import tensorflow as tf \n",
    "from tensorflow.keras.preprocessing.image import ImageDataGenerator\n",
    "from tensorflow.keras.callbacks import EarlyStopping, ModelCheckpoint\n"
   ]
  },
  {
   "cell_type": "code",
   "execution_count": 2,
   "id": "af33f876-b7d9-4292-a6b2-90b588983ddf",
   "metadata": {},
   "outputs": [],
   "source": [
    "BASEDIR = os.getcwd()\n",
    "DATADIR = os.path.join(BASEDIR, 'data')"
   ]
  },
  {
   "cell_type": "code",
   "execution_count": 3,
   "id": "27acf260-9ec7-40ff-a16f-8fd5d86ccdc6",
   "metadata": {},
   "outputs": [
    {
     "data": {
      "text/plain": [
       "'/home/dhakal/BTC_TF/data'"
      ]
     },
     "execution_count": 3,
     "metadata": {},
     "output_type": "execute_result"
    }
   ],
   "source": [
    "DATADIR"
   ]
  },
  {
   "cell_type": "code",
   "execution_count": 4,
   "id": "ce9c4e27-51bc-403e-8040-ddb6f4ab7e81",
   "metadata": {},
   "outputs": [],
   "source": [
    "for dirs in [DATADIR]:\n",
    "    filepaths = []\n",
    "    labels = []\n",
    "    classes_list = sorted(os.listdir(dirs))\n",
    "    for s_class in classes_list:\n",
    "        label = s_class\n",
    "        classpath = os.path.join(dirs,s_class)\n",
    "        f_list = sorted(os.listdir(classpath))\n",
    "        for file in f_list:\n",
    "            file_path = os.path.join(classpath,file)\n",
    "            filepaths.append(file_path)\n",
    "            labels.append(label)"
   ]
  },
  {
   "cell_type": "code",
   "execution_count": 5,
   "id": "bbd12f33-8815-4575-952e-33c6d119cdbe",
   "metadata": {},
   "outputs": [],
   "source": [
    "main_df = pd.DataFrame({'image_path' : filepaths, 'label': labels})"
   ]
  },
  {
   "cell_type": "code",
   "execution_count": 6,
   "id": "ac96a7d7-656c-4fb3-951d-602010c65bdf",
   "metadata": {},
   "outputs": [
    {
     "data": {
      "text/html": [
       "<div>\n",
       "<style scoped>\n",
       "    .dataframe tbody tr th:only-of-type {\n",
       "        vertical-align: middle;\n",
       "    }\n",
       "\n",
       "    .dataframe tbody tr th {\n",
       "        vertical-align: top;\n",
       "    }\n",
       "\n",
       "    .dataframe thead th {\n",
       "        text-align: right;\n",
       "    }\n",
       "</style>\n",
       "<table border=\"1\" class=\"dataframe\">\n",
       "  <thead>\n",
       "    <tr style=\"text-align: right;\">\n",
       "      <th></th>\n",
       "      <th>image_path</th>\n",
       "      <th>label</th>\n",
       "    </tr>\n",
       "  </thead>\n",
       "  <tbody>\n",
       "    <tr>\n",
       "      <th>0</th>\n",
       "      <td>/home/dhakal/BTC_TF/data/Astrocitoma T1/005_bi...</td>\n",
       "      <td>Astrocitoma T1</td>\n",
       "    </tr>\n",
       "    <tr>\n",
       "      <th>1</th>\n",
       "      <td>/home/dhakal/BTC_TF/data/Astrocitoma T1/006_bi...</td>\n",
       "      <td>Astrocitoma T1</td>\n",
       "    </tr>\n",
       "    <tr>\n",
       "      <th>2</th>\n",
       "      <td>/home/dhakal/BTC_TF/data/Astrocitoma T1/01809e...</td>\n",
       "      <td>Astrocitoma T1</td>\n",
       "    </tr>\n",
       "    <tr>\n",
       "      <th>3</th>\n",
       "      <td>/home/dhakal/BTC_TF/data/Astrocitoma T1/02df13...</td>\n",
       "      <td>Astrocitoma T1</td>\n",
       "    </tr>\n",
       "    <tr>\n",
       "      <th>4</th>\n",
       "      <td>/home/dhakal/BTC_TF/data/Astrocitoma T1/044d8d...</td>\n",
       "      <td>Astrocitoma T1</td>\n",
       "    </tr>\n",
       "  </tbody>\n",
       "</table>\n",
       "</div>"
      ],
      "text/plain": [
       "                                          image_path           label\n",
       "0  /home/dhakal/BTC_TF/data/Astrocitoma T1/005_bi...  Astrocitoma T1\n",
       "1  /home/dhakal/BTC_TF/data/Astrocitoma T1/006_bi...  Astrocitoma T1\n",
       "2  /home/dhakal/BTC_TF/data/Astrocitoma T1/01809e...  Astrocitoma T1\n",
       "3  /home/dhakal/BTC_TF/data/Astrocitoma T1/02df13...  Astrocitoma T1\n",
       "4  /home/dhakal/BTC_TF/data/Astrocitoma T1/044d8d...  Astrocitoma T1"
      ]
     },
     "execution_count": 6,
     "metadata": {},
     "output_type": "execute_result"
    }
   ],
   "source": [
    "main_df.head()"
   ]
  },
  {
   "cell_type": "code",
   "execution_count": 7,
   "id": "949f1222-969c-4f07-90e8-4c8f77069319",
   "metadata": {},
   "outputs": [
    {
     "data": {
      "text/plain": [
       "44"
      ]
     },
     "execution_count": 7,
     "metadata": {},
     "output_type": "execute_result"
    }
   ],
   "source": [
    "len(main_df['label'].unique())"
   ]
  },
  {
   "cell_type": "code",
   "execution_count": 8,
   "id": "4fe29057-c2c4-408b-8c0f-ec601031a98c",
   "metadata": {},
   "outputs": [
    {
     "data": {
      "text/plain": [
       "(4479, 2)"
      ]
     },
     "execution_count": 8,
     "metadata": {},
     "output_type": "execute_result"
    }
   ],
   "source": [
    "main_df.shape"
   ]
  },
  {
   "cell_type": "code",
   "execution_count": 9,
   "id": "d4100ccf-d70b-40db-81ee-c3b4036adeec",
   "metadata": {
    "scrolled": true
   },
   "outputs": [
    {
     "data": {
      "text/plain": [
       "label\n",
       "Meningioma T1C+           369\n",
       "Meningioma T1             272\n",
       "_NORMAL T2                271\n",
       "_NORMAL T1                251\n",
       "Astrocitoma T1C+          233\n",
       "Meningioma T2             233\n",
       "Neurocitoma T1C+          223\n",
       "Schwannoma T1C+           194\n",
       "Astrocitoma T1            176\n",
       "Astrocitoma T2            171\n",
       "Schwannoma T1             148\n",
       "Neurocitoma T1            130\n",
       "Schwannoma T2             123\n",
       "Carcinoma T1C+            112\n",
       "Papiloma T1C+             108\n",
       "Neurocitoma T2            104\n",
       "Glioblastoma T1C+          94\n",
       "Oligodendroglioma T1       86\n",
       "Tuberculoma T1C+           84\n",
       "Carcinoma T2               73\n",
       "Oligodendroglioma T1C+     72\n",
       "Meduloblastoma T1C+        67\n",
       "Papiloma T1                66\n",
       "Oligodendroglioma T2       66\n",
       "Carcinoma T1               66\n",
       "Papiloma T2                63\n",
       "Ependimoma T2              57\n",
       "Glioblastoma T2            55\n",
       "Glioblastoma T1            55\n",
       "Ependimoma T1C+            48\n",
       "Ependimoma T1              45\n",
       "Meduloblastoma T2          41\n",
       "Germinoma T1C+             40\n",
       "Tuberculoma T2             33\n",
       "Germinoma T2               33\n",
       "Granuloma T1C+             31\n",
       "Granuloma T1               30\n",
       "Tuberculoma T1             28\n",
       "Germinoma T1               27\n",
       "Ganglioglioma T2           23\n",
       "Meduloblastoma T1          23\n",
       "Ganglioglioma T1           20\n",
       "Ganglioglioma T1C+         18\n",
       "Granuloma T2               17\n",
       "Name: count, dtype: int64"
      ]
     },
     "execution_count": 9,
     "metadata": {},
     "output_type": "execute_result"
    }
   ],
   "source": [
    "main_df['label'].value_counts()"
   ]
  },
  {
   "cell_type": "code",
   "execution_count": 10,
   "id": "2e0563b8",
   "metadata": {},
   "outputs": [],
   "source": [
    "image_size = 150\n",
    "data = []\n",
    "for img in main_df['image_path']:\n",
    "    image = cv2.imread(img)\n",
    "    image = cv2.resize(image,(image_size,image_size))\n",
    "    image = np.array(image/255)\n",
    "    data.append(image)"
   ]
  },
  {
   "cell_type": "code",
   "execution_count": 11,
   "id": "fbf982fe",
   "metadata": {},
   "outputs": [],
   "source": [
    "data = np.array(data)"
   ]
  },
  {
   "cell_type": "code",
   "execution_count": 12,
   "id": "a08ce4aa",
   "metadata": {},
   "outputs": [
    {
     "data": {
      "text/plain": [
       "(4479, 150, 150, 3)"
      ]
     },
     "execution_count": 12,
     "metadata": {},
     "output_type": "execute_result"
    }
   ],
   "source": [
    "data.shape"
   ]
  },
  {
   "cell_type": "code",
   "execution_count": 13,
   "id": "1147b2ab",
   "metadata": {},
   "outputs": [],
   "source": [
    "labels = np.array(main_df['label'])"
   ]
  },
  {
   "cell_type": "code",
   "execution_count": 14,
   "id": "9e57ea4e",
   "metadata": {},
   "outputs": [
    {
     "data": {
      "text/plain": [
       "(4479,)"
      ]
     },
     "execution_count": 14,
     "metadata": {},
     "output_type": "execute_result"
    }
   ],
   "source": [
    "labels.shape"
   ]
  },
  {
   "cell_type": "code",
   "execution_count": 15,
   "id": "b5f5f1f2",
   "metadata": {},
   "outputs": [
    {
     "data": {
      "text/plain": [
       "array(['Astrocitoma T1', 'Astrocitoma T1', 'Astrocitoma T1', ...,\n",
       "       '_NORMAL T2', '_NORMAL T2', '_NORMAL T2'], dtype=object)"
      ]
     },
     "execution_count": 15,
     "metadata": {},
     "output_type": "execute_result"
    }
   ],
   "source": [
    "labels"
   ]
  },
  {
   "cell_type": "code",
   "execution_count": 16,
   "id": "26bda8e9",
   "metadata": {},
   "outputs": [
    {
     "name": "stdout",
     "output_type": "stream",
     "text": [
      "[[1 0 0 ... 0 0 0]\n",
      " [1 0 0 ... 0 0 0]\n",
      " [1 0 0 ... 0 0 0]\n",
      " ...\n",
      " [0 0 0 ... 0 0 1]\n",
      " [0 0 0 ... 0 0 1]\n",
      " [0 0 0 ... 0 0 1]]\n"
     ]
    }
   ],
   "source": [
    "lb = LabelBinarizer()\n",
    "labels = lb.fit_transform(labels)\n",
    "print(labels)"
   ]
  },
  {
   "cell_type": "code",
   "execution_count": 17,
   "id": "60d80038",
   "metadata": {},
   "outputs": [
    {
     "name": "stdout",
     "output_type": "stream",
     "text": [
      "(3359, 150, 150, 3)\n",
      "(1120, 150, 150, 3)\n"
     ]
    }
   ],
   "source": [
    "(trainX, testX, trainY, testY) = train_test_split(np.array(data),\n",
    "    np.array(labels), test_size=0.25)\n",
    "print(trainX.shape)\n",
    "print(testX.shape)"
   ]
  },
  {
   "cell_type": "code",
   "execution_count": 18,
   "id": "cc15cd46",
   "metadata": {},
   "outputs": [],
   "source": [
    "class AlexNet(Sequential):\n",
    "    def __init__(self, input_shape, num_classes):\n",
    "        super().__init__()\n",
    "\n",
    "        self.add(Conv2D(96, kernel_size=(11,11), strides= 4,\n",
    "                        padding= 'same', activation= 'relu',\n",
    "                         input_shape= input_shape,\n",
    "                        kernel_initializer= 'he_normal'))\n",
    "        \n",
    "        self.add(MaxPooling2D(pool_size=(3,3), strides= (2,2),\n",
    "                              padding= 'same', data_format= None))\n",
    "\n",
    "        self.add(Conv2D(256, kernel_size=(5,5), strides= 1,\n",
    "                        padding= 'same', activation= 'relu',\n",
    "                        kernel_initializer= 'he_normal'))\n",
    "        \n",
    "        self.add(MaxPooling2D(pool_size=(3,3), strides= (2,2),\n",
    "                              padding= 'same', data_format= None)) \n",
    "\n",
    "        self.add(Conv2D(384, kernel_size=(3,3), strides= 1,\n",
    "                        padding= 'same', activation= 'relu',\n",
    "                        kernel_initializer= 'he_normal'))\n",
    "\n",
    "        self.add(Conv2D(384, kernel_size=(3,3), strides= 1,\n",
    "                        padding= 'same', activation= 'relu',\n",
    "                        kernel_initializer= 'he_normal'))\n",
    "\n",
    "        self.add(Conv2D(256, kernel_size=(3,3), strides= 1,\n",
    "                        padding= 'same', activation= 'relu',\n",
    "                        kernel_initializer= 'he_normal'))\n",
    "\n",
    "        self.add(MaxPooling2D(pool_size=(3,3), strides= (2,2),\n",
    "                              padding= 'same', data_format= None))\n",
    "\n",
    "        self.add(Flatten())\n",
    "        self.add(Dense(4096, activation= 'relu'))\n",
    "        self.add(Dense(4096, activation= 'relu'))\n",
    "        self.add(Dense(1000, activation= 'relu'))\n",
    "        self.add(Dense(num_classes, activation= 'softmax'))"
   ]
  },
  {
   "cell_type": "code",
   "execution_count": 19,
   "id": "03da9302",
   "metadata": {},
   "outputs": [
    {
     "name": "stderr",
     "output_type": "stream",
     "text": [
      "2023-08-04 09:29:44.879117: W tensorflow/core/common_runtime/gpu/gpu_device.cc:1960] Cannot dlopen some GPU libraries. Please make sure the missing libraries mentioned above are installed properly if you would like to use GPU. Follow the guide at https://www.tensorflow.org/install/gpu for how to download and setup the required libraries for your platform.\n",
      "Skipping registering GPU devices...\n"
     ]
    }
   ],
   "source": [
    "model = AlexNet((150, 150, 3), 44)"
   ]
  },
  {
   "cell_type": "code",
   "execution_count": 20,
   "id": "0a5f8369",
   "metadata": {},
   "outputs": [
    {
     "name": "stdout",
     "output_type": "stream",
     "text": [
      "Model: \"alex_net\"\n",
      "_________________________________________________________________\n",
      " Layer (type)                Output Shape              Param #   \n",
      "=================================================================\n",
      " conv2d (Conv2D)             (None, 38, 38, 96)        34944     \n",
      "                                                                 \n",
      " max_pooling2d (MaxPooling2  (None, 19, 19, 96)        0         \n",
      " D)                                                              \n",
      "                                                                 \n",
      " conv2d_1 (Conv2D)           (None, 19, 19, 256)       614656    \n",
      "                                                                 \n",
      " max_pooling2d_1 (MaxPoolin  (None, 10, 10, 256)       0         \n",
      " g2D)                                                            \n",
      "                                                                 \n",
      " conv2d_2 (Conv2D)           (None, 10, 10, 384)       885120    \n",
      "                                                                 \n",
      " conv2d_3 (Conv2D)           (None, 10, 10, 384)       1327488   \n",
      "                                                                 \n",
      " conv2d_4 (Conv2D)           (None, 10, 10, 256)       884992    \n",
      "                                                                 \n",
      " max_pooling2d_2 (MaxPoolin  (None, 5, 5, 256)         0         \n",
      " g2D)                                                            \n",
      "                                                                 \n",
      " flatten (Flatten)           (None, 6400)              0         \n",
      "                                                                 \n",
      " dense (Dense)               (None, 4096)              26218496  \n",
      "                                                                 \n",
      " dense_1 (Dense)             (None, 4096)              16781312  \n",
      "                                                                 \n",
      " dense_2 (Dense)             (None, 1000)              4097000   \n",
      "                                                                 \n",
      " dense_3 (Dense)             (None, 44)                44044     \n",
      "                                                                 \n",
      "=================================================================\n",
      "Total params: 50888052 (194.12 MB)\n",
      "Trainable params: 50888052 (194.12 MB)\n",
      "Non-trainable params: 0 (0.00 Byte)\n",
      "_________________________________________________________________\n"
     ]
    }
   ],
   "source": [
    "opt = Adamax (learning_rate=0.0001)\n",
    "model.compile(loss='categorical_crossentropy', optimizer=opt, metrics=['accuracy'])\n",
    "model.summary()"
   ]
  },
  {
   "cell_type": "code",
   "execution_count": 21,
   "id": "5aa91d53",
   "metadata": {
    "scrolled": true
   },
   "outputs": [
    {
     "name": "stdout",
     "output_type": "stream",
     "text": [
      "Epoch 1/100\n",
      "53/53 [==============================] - 172s 3s/step - loss: 3.2958 - accuracy: 0.1396 - val_loss: 2.8234 - val_accuracy: 0.2643\n",
      "Epoch 2/100\n",
      "53/53 [==============================] - 147s 3s/step - loss: 2.5261 - accuracy: 0.3379 - val_loss: 2.2347 - val_accuracy: 0.4116\n",
      "Epoch 3/100\n",
      "53/53 [==============================] - 133s 2s/step - loss: 1.9892 - accuracy: 0.4632 - val_loss: 1.9253 - val_accuracy: 0.4821\n",
      "Epoch 4/100\n",
      "53/53 [==============================] - 135s 3s/step - loss: 1.6035 - accuracy: 0.5645 - val_loss: 1.5567 - val_accuracy: 0.6062\n",
      "Epoch 5/100\n",
      "53/53 [==============================] - 142s 3s/step - loss: 1.3212 - accuracy: 0.6457 - val_loss: 1.3606 - val_accuracy: 0.6277\n",
      "Epoch 6/100\n",
      "53/53 [==============================] - 143s 3s/step - loss: 1.0506 - accuracy: 0.7169 - val_loss: 1.1305 - val_accuracy: 0.7188\n",
      "Epoch 7/100\n",
      "53/53 [==============================] - 138s 3s/step - loss: 0.8904 - accuracy: 0.7592 - val_loss: 1.0078 - val_accuracy: 0.7518\n",
      "Epoch 8/100\n",
      "53/53 [==============================] - 130s 2s/step - loss: 0.6924 - accuracy: 0.8113 - val_loss: 0.9350 - val_accuracy: 0.7491\n",
      "Epoch 9/100\n",
      "53/53 [==============================] - 133s 3s/step - loss: 0.5436 - accuracy: 0.8544 - val_loss: 0.8607 - val_accuracy: 0.7625\n",
      "Epoch 10/100\n",
      "53/53 [==============================] - 137s 3s/step - loss: 0.4498 - accuracy: 0.8827 - val_loss: 0.7961 - val_accuracy: 0.7857\n",
      "Epoch 11/100\n",
      "53/53 [==============================] - 140s 3s/step - loss: 0.3717 - accuracy: 0.9029 - val_loss: 0.6936 - val_accuracy: 0.7946\n",
      "Epoch 12/100\n",
      "53/53 [==============================] - 140s 3s/step - loss: 0.2653 - accuracy: 0.9336 - val_loss: 0.6007 - val_accuracy: 0.8330\n",
      "Epoch 13/100\n",
      "53/53 [==============================] - 137s 3s/step - loss: 0.2723 - accuracy: 0.9297 - val_loss: 0.6335 - val_accuracy: 0.8384\n",
      "Epoch 14/100\n",
      "53/53 [==============================] - 130s 2s/step - loss: 0.2068 - accuracy: 0.9515 - val_loss: 0.5855 - val_accuracy: 0.8402\n",
      "Epoch 15/100\n",
      "53/53 [==============================] - 138s 3s/step - loss: 0.1708 - accuracy: 0.9595 - val_loss: 0.5322 - val_accuracy: 0.8545\n",
      "Epoch 16/100\n",
      "53/53 [==============================] - 142s 3s/step - loss: 0.1326 - accuracy: 0.9699 - val_loss: 0.5408 - val_accuracy: 0.8491\n",
      "Epoch 17/100\n",
      "53/53 [==============================] - 133s 3s/step - loss: 0.1196 - accuracy: 0.9750 - val_loss: 0.5405 - val_accuracy: 0.8500\n",
      "Epoch 18/100\n",
      "53/53 [==============================] - 133s 3s/step - loss: 0.0859 - accuracy: 0.9824 - val_loss: 0.5197 - val_accuracy: 0.8714\n",
      "Epoch 19/100\n",
      "53/53 [==============================] - 130s 2s/step - loss: 0.0668 - accuracy: 0.9881 - val_loss: 0.5248 - val_accuracy: 0.8661\n",
      "Epoch 20/100\n",
      "53/53 [==============================] - 137s 3s/step - loss: 0.0596 - accuracy: 0.9881 - val_loss: 0.5885 - val_accuracy: 0.8545\n",
      "Epoch 21/100\n",
      "53/53 [==============================] - 140s 3s/step - loss: 0.0760 - accuracy: 0.9851 - val_loss: 0.5248 - val_accuracy: 0.8759\n",
      "Epoch 22/100\n",
      "53/53 [==============================] - 135s 3s/step - loss: 0.0560 - accuracy: 0.9893 - val_loss: 0.4548 - val_accuracy: 0.8902\n",
      "Epoch 23/100\n",
      "53/53 [==============================] - 134s 3s/step - loss: 0.0524 - accuracy: 0.9887 - val_loss: 0.4353 - val_accuracy: 0.8946\n",
      "Epoch 24/100\n",
      "53/53 [==============================] - 125s 2s/step - loss: 0.0947 - accuracy: 0.9765 - val_loss: 0.5020 - val_accuracy: 0.8911\n",
      "Epoch 25/100\n",
      "53/53 [==============================] - 129s 2s/step - loss: 0.0414 - accuracy: 0.9929 - val_loss: 0.4697 - val_accuracy: 0.8902\n",
      "Epoch 26/100\n",
      "53/53 [==============================] - 132s 2s/step - loss: 0.0313 - accuracy: 0.9943 - val_loss: 0.4270 - val_accuracy: 0.8938\n",
      "Epoch 27/100\n",
      "53/53 [==============================] - 128s 2s/step - loss: 0.0205 - accuracy: 0.9973 - val_loss: 0.4351 - val_accuracy: 0.9036\n",
      "Epoch 28/100\n",
      "53/53 [==============================] - 123s 2s/step - loss: 0.0222 - accuracy: 0.9964 - val_loss: 0.4623 - val_accuracy: 0.8830\n",
      "Epoch 29/100\n",
      "53/53 [==============================] - 122s 2s/step - loss: 0.0278 - accuracy: 0.9932 - val_loss: 0.4487 - val_accuracy: 0.8875\n",
      "Epoch 30/100\n",
      "53/53 [==============================] - 122s 2s/step - loss: 0.0634 - accuracy: 0.9824 - val_loss: 0.5107 - val_accuracy: 0.8848\n",
      "Epoch 31/100\n",
      "53/53 [==============================] - 132s 3s/step - loss: 0.0607 - accuracy: 0.9863 - val_loss: 0.5139 - val_accuracy: 0.8955\n",
      "Epoch 32/100\n",
      "53/53 [==============================] - 134s 3s/step - loss: 0.0463 - accuracy: 0.9902 - val_loss: 0.5293 - val_accuracy: 0.8830\n",
      "Epoch 33/100\n",
      "53/53 [==============================] - 137s 3s/step - loss: 0.0364 - accuracy: 0.9920 - val_loss: 0.4367 - val_accuracy: 0.9089\n",
      "Epoch 34/100\n",
      "53/53 [==============================] - 129s 2s/step - loss: 0.0161 - accuracy: 0.9976 - val_loss: 0.3553 - val_accuracy: 0.9223\n",
      "Epoch 35/100\n",
      "53/53 [==============================] - 123s 2s/step - loss: 0.0196 - accuracy: 0.9961 - val_loss: 0.4600 - val_accuracy: 0.8946\n",
      "Epoch 36/100\n",
      "53/53 [==============================] - 127s 2s/step - loss: 0.0326 - accuracy: 0.9929 - val_loss: 0.5494 - val_accuracy: 0.8759\n",
      "Epoch 37/100\n",
      "53/53 [==============================] - 132s 3s/step - loss: 0.0436 - accuracy: 0.9914 - val_loss: 0.4502 - val_accuracy: 0.8893\n",
      "Epoch 38/100\n",
      "53/53 [==============================] - 132s 3s/step - loss: 0.0173 - accuracy: 0.9976 - val_loss: 0.4142 - val_accuracy: 0.9161\n",
      "Epoch 39/100\n",
      "53/53 [==============================] - 130s 2s/step - loss: 0.0189 - accuracy: 0.9961 - val_loss: 0.3792 - val_accuracy: 0.9170\n",
      "Epoch 40/100\n",
      "53/53 [==============================] - 124s 2s/step - loss: 0.0136 - accuracy: 0.9970 - val_loss: 0.4658 - val_accuracy: 0.8973\n",
      "Epoch 41/100\n",
      "53/53 [==============================] - 123s 2s/step - loss: 0.0235 - accuracy: 0.9958 - val_loss: 0.4053 - val_accuracy: 0.9125\n",
      "Epoch 42/100\n",
      "53/53 [==============================] - 133s 3s/step - loss: 0.0164 - accuracy: 0.9979 - val_loss: 0.3891 - val_accuracy: 0.9187\n",
      "Epoch 43/100\n",
      "53/53 [==============================] - 137s 3s/step - loss: 0.0102 - accuracy: 0.9979 - val_loss: 0.3718 - val_accuracy: 0.9259\n",
      "Epoch 44/100\n",
      "53/53 [==============================] - 135s 3s/step - loss: 0.0147 - accuracy: 0.9973 - val_loss: 0.4160 - val_accuracy: 0.9277\n",
      "Epoch 45/100\n",
      "53/53 [==============================] - 135s 3s/step - loss: 0.0216 - accuracy: 0.9955 - val_loss: 0.3959 - val_accuracy: 0.9045\n",
      "Epoch 46/100\n",
      "53/53 [==============================] - 132s 2s/step - loss: 0.0163 - accuracy: 0.9976 - val_loss: 0.4240 - val_accuracy: 0.9143\n",
      "Epoch 47/100\n",
      "53/53 [==============================] - 124s 2s/step - loss: 0.0337 - accuracy: 0.9920 - val_loss: 0.4196 - val_accuracy: 0.9134\n",
      "Epoch 48/100\n",
      "53/53 [==============================] - 128s 2s/step - loss: 0.0258 - accuracy: 0.9949 - val_loss: 0.5020 - val_accuracy: 0.8964\n",
      "Epoch 49/100\n",
      "53/53 [==============================] - 138s 3s/step - loss: 0.0177 - accuracy: 0.9976 - val_loss: 0.4452 - val_accuracy: 0.8973\n",
      "Epoch 50/100\n",
      "53/53 [==============================] - 132s 2s/step - loss: 0.0160 - accuracy: 0.9973 - val_loss: 0.4557 - val_accuracy: 0.9134\n",
      "Epoch 51/100\n",
      "53/53 [==============================] - 120s 2s/step - loss: 0.0200 - accuracy: 0.9961 - val_loss: 0.4744 - val_accuracy: 0.8982\n",
      "Epoch 52/100\n",
      "53/53 [==============================] - 127s 2s/step - loss: 0.0129 - accuracy: 0.9982 - val_loss: 0.4407 - val_accuracy: 0.8955\n",
      "Epoch 53/100\n",
      "53/53 [==============================] - 135s 3s/step - loss: 0.0155 - accuracy: 0.9961 - val_loss: 0.4830 - val_accuracy: 0.9036\n",
      "Epoch 54/100\n",
      "53/53 [==============================] - 131s 2s/step - loss: 0.0208 - accuracy: 0.9958 - val_loss: 0.4652 - val_accuracy: 0.8848\n",
      "Epoch 55/100\n",
      "53/53 [==============================] - 133s 3s/step - loss: 0.0162 - accuracy: 0.9976 - val_loss: 0.4114 - val_accuracy: 0.9036\n",
      "Epoch 56/100\n",
      "53/53 [==============================] - 133s 3s/step - loss: 0.0098 - accuracy: 0.9979 - val_loss: 0.3850 - val_accuracy: 0.9277\n",
      "Epoch 57/100\n",
      "53/53 [==============================] - 138s 3s/step - loss: 0.0135 - accuracy: 0.9970 - val_loss: 0.3864 - val_accuracy: 0.9107\n",
      "Epoch 58/100\n"
     ]
    },
    {
     "name": "stdout",
     "output_type": "stream",
     "text": [
      "53/53 [==============================] - 128s 2s/step - loss: 0.0209 - accuracy: 0.9961 - val_loss: 0.4380 - val_accuracy: 0.9027\n",
      "Epoch 59/100\n",
      "53/53 [==============================] - 122s 2s/step - loss: 0.0330 - accuracy: 0.9893 - val_loss: 0.4993 - val_accuracy: 0.8911\n",
      "Epoch 60/100\n",
      "53/53 [==============================] - 130s 2s/step - loss: 0.0302 - accuracy: 0.9917 - val_loss: 0.4781 - val_accuracy: 0.9054\n",
      "Epoch 61/100\n",
      "53/53 [==============================] - 138s 3s/step - loss: 0.0353 - accuracy: 0.9914 - val_loss: 0.5448 - val_accuracy: 0.8848\n",
      "Epoch 62/100\n",
      "53/53 [==============================] - 128s 2s/step - loss: 0.0377 - accuracy: 0.9923 - val_loss: 0.3984 - val_accuracy: 0.8973\n",
      "Epoch 63/100\n",
      "53/53 [==============================] - 122s 2s/step - loss: 0.0170 - accuracy: 0.9967 - val_loss: 0.3779 - val_accuracy: 0.9179\n",
      "Epoch 64/100\n",
      "53/53 [==============================] - 129s 2s/step - loss: 0.0061 - accuracy: 0.9994 - val_loss: 0.3358 - val_accuracy: 0.9277\n",
      "Epoch 65/100\n",
      "53/53 [==============================] - 136s 3s/step - loss: 0.0056 - accuracy: 0.9991 - val_loss: 0.4074 - val_accuracy: 0.9196\n",
      "Epoch 66/100\n",
      "53/53 [==============================] - 136s 3s/step - loss: 0.0084 - accuracy: 0.9982 - val_loss: 0.4171 - val_accuracy: 0.9125\n",
      "Epoch 67/100\n",
      "53/53 [==============================] - 136s 3s/step - loss: 0.0086 - accuracy: 0.9982 - val_loss: 0.3615 - val_accuracy: 0.9241\n",
      "Epoch 68/100\n",
      "53/53 [==============================] - 136s 3s/step - loss: 0.0072 - accuracy: 0.9985 - val_loss: 0.3558 - val_accuracy: 0.9304\n",
      "Epoch 69/100\n",
      "53/53 [==============================] - 127s 2s/step - loss: 0.0053 - accuracy: 0.9991 - val_loss: 0.3676 - val_accuracy: 0.9241\n",
      "Epoch 70/100\n",
      "53/53 [==============================] - 123s 2s/step - loss: 0.0035 - accuracy: 0.9988 - val_loss: 0.4091 - val_accuracy: 0.9330\n",
      "Epoch 71/100\n",
      "53/53 [==============================] - 133s 3s/step - loss: 0.0091 - accuracy: 0.9982 - val_loss: 0.3532 - val_accuracy: 0.9330\n",
      "Epoch 72/100\n",
      "53/53 [==============================] - 135s 3s/step - loss: 0.0050 - accuracy: 0.9985 - val_loss: 0.3405 - val_accuracy: 0.9241\n",
      "Epoch 73/100\n",
      "53/53 [==============================] - 125s 2s/step - loss: 0.0045 - accuracy: 0.9988 - val_loss: 0.3839 - val_accuracy: 0.9295\n",
      "Epoch 74/100\n",
      "53/53 [==============================] - 121s 2s/step - loss: 0.0043 - accuracy: 0.9991 - val_loss: 0.3452 - val_accuracy: 0.9304\n",
      "Epoch 75/100\n",
      "53/53 [==============================] - 121s 2s/step - loss: 0.0080 - accuracy: 0.9982 - val_loss: 0.4189 - val_accuracy: 0.9152\n",
      "Epoch 76/100\n",
      "53/53 [==============================] - 133s 3s/step - loss: 0.0073 - accuracy: 0.9985 - val_loss: 0.3594 - val_accuracy: 0.9277\n",
      "Epoch 77/100\n",
      "53/53 [==============================] - 134s 3s/step - loss: 0.0116 - accuracy: 0.9982 - val_loss: 0.4295 - val_accuracy: 0.9125\n",
      "Epoch 78/100\n",
      "53/53 [==============================] - 132s 2s/step - loss: 0.0073 - accuracy: 0.9982 - val_loss: 0.3877 - val_accuracy: 0.9205\n",
      "Epoch 79/100\n",
      "53/53 [==============================] - 131s 2s/step - loss: 0.0079 - accuracy: 0.9985 - val_loss: 0.3919 - val_accuracy: 0.9304\n",
      "Epoch 80/100\n",
      "53/53 [==============================] - 126s 2s/step - loss: 0.0091 - accuracy: 0.9976 - val_loss: 0.3792 - val_accuracy: 0.9259\n",
      "Epoch 81/100\n",
      "53/53 [==============================] - 128s 2s/step - loss: 0.0065 - accuracy: 0.9988 - val_loss: 0.3565 - val_accuracy: 0.9304\n",
      "Epoch 82/100\n",
      "53/53 [==============================] - 131s 2s/step - loss: 0.0065 - accuracy: 0.9985 - val_loss: 0.3525 - val_accuracy: 0.9286\n",
      "Epoch 83/100\n",
      "53/53 [==============================] - 132s 3s/step - loss: 0.0048 - accuracy: 0.9991 - val_loss: 0.3850 - val_accuracy: 0.9286\n",
      "Epoch 84/100\n",
      "53/53 [==============================] - 135s 3s/step - loss: 0.0059 - accuracy: 0.9991 - val_loss: 0.3588 - val_accuracy: 0.9304\n",
      "Epoch 85/100\n",
      "53/53 [==============================] - 127s 2s/step - loss: 0.0039 - accuracy: 0.9994 - val_loss: 0.4398 - val_accuracy: 0.9098\n",
      "Epoch 86/100\n",
      "53/53 [==============================] - 124s 2s/step - loss: 0.0049 - accuracy: 0.9991 - val_loss: 0.4058 - val_accuracy: 0.9196\n",
      "Epoch 87/100\n",
      "53/53 [==============================] - 135s 3s/step - loss: 0.0066 - accuracy: 0.9985 - val_loss: 0.3984 - val_accuracy: 0.9268\n",
      "Epoch 88/100\n",
      "53/53 [==============================] - 135s 3s/step - loss: 0.0064 - accuracy: 0.9991 - val_loss: 0.4111 - val_accuracy: 0.9205\n",
      "Epoch 89/100\n",
      "53/53 [==============================] - 134s 3s/step - loss: 0.0042 - accuracy: 0.9991 - val_loss: 0.3663 - val_accuracy: 0.9232\n",
      "Epoch 90/100\n",
      "53/53 [==============================] - 139s 3s/step - loss: 0.0029 - accuracy: 0.9988 - val_loss: 0.4280 - val_accuracy: 0.9143\n",
      "Epoch 91/100\n",
      "53/53 [==============================] - 137s 3s/step - loss: 0.0073 - accuracy: 0.9979 - val_loss: 0.5230 - val_accuracy: 0.9018\n",
      "Epoch 92/100\n",
      "53/53 [==============================] - 132s 2s/step - loss: 0.0327 - accuracy: 0.9937 - val_loss: 0.5511 - val_accuracy: 0.8759\n",
      "Epoch 93/100\n",
      "53/53 [==============================] - 127s 2s/step - loss: 0.0296 - accuracy: 0.9911 - val_loss: 0.3909 - val_accuracy: 0.9062\n",
      "Epoch 94/100\n",
      "53/53 [==============================] - 130s 2s/step - loss: 0.0097 - accuracy: 0.9979 - val_loss: 0.3395 - val_accuracy: 0.9259\n",
      "Epoch 95/100\n",
      "53/53 [==============================] - 130s 2s/step - loss: 0.0052 - accuracy: 0.9988 - val_loss: 0.3639 - val_accuracy: 0.9268\n",
      "Epoch 96/100\n",
      "53/53 [==============================] - 127s 2s/step - loss: 0.0040 - accuracy: 0.9985 - val_loss: 0.3478 - val_accuracy: 0.9304\n",
      "Epoch 97/100\n",
      "53/53 [==============================] - 128s 2s/step - loss: 0.0041 - accuracy: 0.9985 - val_loss: 0.3452 - val_accuracy: 0.9339\n",
      "Epoch 98/100\n",
      "53/53 [==============================] - 126s 2s/step - loss: 0.0027 - accuracy: 0.9991 - val_loss: 0.3454 - val_accuracy: 0.9321\n",
      "Epoch 99/100\n",
      "53/53 [==============================] - 129s 2s/step - loss: 0.0039 - accuracy: 0.9985 - val_loss: 0.3398 - val_accuracy: 0.9304\n",
      "Epoch 100/100\n",
      "53/53 [==============================] - 137s 3s/step - loss: 0.0029 - accuracy: 0.9985 - val_loss: 0.3449 - val_accuracy: 0.9330\n"
     ]
    }
   ],
   "source": [
    "H = model.fit(trainX, trainY, validation_data=(testX, testY), epochs=100, batch_size=64)"
   ]
  },
  {
   "cell_type": "code",
   "execution_count": 22,
   "id": "ab33d159",
   "metadata": {},
   "outputs": [
    {
     "name": "stdout",
     "output_type": "stream",
     "text": [
      "dict_keys(['loss', 'accuracy', 'val_loss', 'val_accuracy'])\n"
     ]
    },
    {
     "data": {
      "image/png": "[encoded data removed]",
      "text/plain": [
       "<Figure size 640x480 with 1 Axes>"
      ]
     },
     "metadata": {},
     "output_type": "display_data"
    },
    {
     "data": {
      "image/png": "[encoded data removed]",
      "text/plain": [
       "<Figure size 640x480 with 1 Axes>"
      ]
     },
     "metadata": {},
     "output_type": "display_data"
    }
   ],
   "source": [
    "print(H.history.keys())\n",
    "# summarize history for accuracy\n",
    "plt.plot(H.history['accuracy'])\n",
    "plt.plot(H.history['val_accuracy'])\n",
    "plt.title('MODEL ACCURACY')\n",
    "plt.ylabel('Accuracy')\n",
    "plt.xlabel('Epoch')\n",
    "plt.legend(['Training Data', 'Testing Data'], loc='lower right')\n",
    "X = np.linspace(0, 100, 100)\n",
    "# plt.ylim(.1, 1.1)\n",
    "plt.show()\n",
    "\n",
    "# summarize history for loss\n",
    "plt.plot(H.history['loss'])\n",
    "plt.plot(H.history['val_loss'])\n",
    "plt.title('MODEL LOSS')\n",
    "plt.ylabel('Loss')\n",
    "plt.xlabel('Epoch')\n",
    "plt.legend(['Training Data', 'Testing Data'], loc='upper right')\n",
    "X = np.linspace(0, 100, 100)\n",
    "# plt.ylim(-0.25, 1.75)\n",
    "plt.show()"
   ]
  },
  {
   "cell_type": "code",
   "execution_count": null,
   "id": "dd9cc9dc",
   "metadata": {},
   "outputs": [],
   "source": []
  }
 ],
 "metadata": {
  "kernelspec": {
   "display_name": "Python 3 (ipykernel)",
   "language": "python",
   "name": "python3"
  },
  "language_info": {
   "codemirror_mode": {
    "name": "ipython",
    "version": 3
   },
   "file_extension": ".py",
   "mimetype": "text/x-python",
   "name": "python",
   "nbconvert_exporter": "python",
   "pygments_lexer": "ipython3",
   "version": "3.11.4"
  }
 },
 "nbformat": 4,
 "nbformat_minor": 5
}
