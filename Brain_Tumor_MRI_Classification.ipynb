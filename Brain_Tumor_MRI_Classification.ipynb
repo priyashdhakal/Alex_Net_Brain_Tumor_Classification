{
 "cells": [
  {
   "cell_type": "code",
   "execution_count": 1,
   "id": "2e197136-69b3-476c-b2a5-3d0d5b654962",
   "metadata": {},
   "outputs": [
    {
     "name": "stderr",
     "output_type": "stream",
     "text": [
      "2023-07-27 12:10:27.106077: I tensorflow/tsl/cuda/cudart_stub.cc:28] Could not find cuda drivers on your machine, GPU will not be used.\n",
      "2023-07-27 12:10:27.164043: I tensorflow/tsl/cuda/cudart_stub.cc:28] Could not find cuda drivers on your machine, GPU will not be used.\n",
      "2023-07-27 12:10:27.164912: I tensorflow/core/platform/cpu_feature_guard.cc:182] This TensorFlow binary is optimized to use available CPU instructions in performance-critical operations.\n",
      "To enable the following instructions: AVX2 FMA, in other operations, rebuild TensorFlow with the appropriate compiler flags.\n",
      "2023-07-27 12:10:28.081876: W tensorflow/compiler/tf2tensorrt/utils/py_utils.cc:38] TF-TRT Warning: Could not find TensorRT\n"
     ]
    }
   ],
   "source": [
    "import pandas as pd \n",
    "import numpy as np \n",
    "from matplotlib import pyplot as plt\n",
    "import seaborn as sns\n",
    "\n",
    "plt.style.use('ggplot')\n",
    "\n",
    "import os \n",
    "import random\n",
    "from PIL import Image\n",
    "\n",
    "from sklearn.model_selection import train_test_split\n",
    "from sklearn.metrics import confusion_matrix, classification_report\n",
    "from sklearn.preprocessing import LabelBinarizer\n",
    "from tensorflow.keras.models import Sequential\n",
    "from tensorflow.keras.layers import Dense, Flatten, Conv2D, MaxPooling2D, Dropout\n",
    "from keras.optimizers import Adamax\n",
    "from tensorflow.keras.losses import categorical_crossentropy\n",
    "import cv2\n",
    "\n",
    "import tensorflow as tf \n",
    "from tensorflow.keras.preprocessing.image import ImageDataGenerator\n",
    "from tensorflow.keras.callbacks import EarlyStopping, ModelCheckpoint\n"
   ]
  },
  {
   "cell_type": "code",
   "execution_count": 2,
   "id": "af33f876-b7d9-4292-a6b2-90b588983ddf",
   "metadata": {},
   "outputs": [],
   "source": [
    "BASEDIR = os.getcwd()\n",
    "DATADIR = os.path.join(BASEDIR, 'data')"
   ]
  },
  {
   "cell_type": "code",
   "execution_count": 3,
   "id": "27acf260-9ec7-40ff-a16f-8fd5d86ccdc6",
   "metadata": {},
   "outputs": [
    {
     "data": {
      "text/plain": [
       "'/home/dhakal/BTC_TF/data'"
      ]
     },
     "execution_count": 3,
     "metadata": {},
     "output_type": "execute_result"
    }
   ],
   "source": [
    "DATADIR"
   ]
  },
  {
   "cell_type": "code",
   "execution_count": 4,
   "id": "ce9c4e27-51bc-403e-8040-ddb6f4ab7e81",
   "metadata": {},
   "outputs": [],
   "source": [
    "for dirs in [DATADIR]:\n",
    "    filepaths = []\n",
    "    labels = []\n",
    "    classes_list = sorted(os.listdir(dirs))\n",
    "    for s_class in classes_list:\n",
    "        label = s_class\n",
    "        classpath = os.path.join(dirs,s_class)\n",
    "        f_list = sorted(os.listdir(classpath))\n",
    "        for file in f_list:\n",
    "            file_path = os.path.join(classpath,file)\n",
    "            filepaths.append(file_path)\n",
    "            labels.append(label)"
   ]
  },
  {
   "cell_type": "code",
   "execution_count": 5,
   "id": "bbd12f33-8815-4575-952e-33c6d119cdbe",
   "metadata": {},
   "outputs": [],
   "source": [
    "main_df = pd.DataFrame({'image_path' : filepaths, 'label': labels})"
   ]
  },
  {
   "cell_type": "code",
   "execution_count": 6,
   "id": "ac96a7d7-656c-4fb3-951d-602010c65bdf",
   "metadata": {},
   "outputs": [
    {
     "data": {
      "text/html": [
       "<div>\n",
       "<style scoped>\n",
       "    .dataframe tbody tr th:only-of-type {\n",
       "        vertical-align: middle;\n",
       "    }\n",
       "\n",
       "    .dataframe tbody tr th {\n",
       "        vertical-align: top;\n",
       "    }\n",
       "\n",
       "    .dataframe thead th {\n",
       "        text-align: right;\n",
       "    }\n",
       "</style>\n",
       "<table border=\"1\" class=\"dataframe\">\n",
       "  <thead>\n",
       "    <tr style=\"text-align: right;\">\n",
       "      <th></th>\n",
       "      <th>image_path</th>\n",
       "      <th>label</th>\n",
       "    </tr>\n",
       "  </thead>\n",
       "  <tbody>\n",
       "    <tr>\n",
       "      <th>0</th>\n",
       "      <td>/home/dhakal/BTC_TF/data/Astrocitoma T1/005_bi...</td>\n",
       "      <td>Astrocitoma T1</td>\n",
       "    </tr>\n",
       "    <tr>\n",
       "      <th>1</th>\n",
       "      <td>/home/dhakal/BTC_TF/data/Astrocitoma T1/006_bi...</td>\n",
       "      <td>Astrocitoma T1</td>\n",
       "    </tr>\n",
       "    <tr>\n",
       "      <th>2</th>\n",
       "      <td>/home/dhakal/BTC_TF/data/Astrocitoma T1/01809e...</td>\n",
       "      <td>Astrocitoma T1</td>\n",
       "    </tr>\n",
       "    <tr>\n",
       "      <th>3</th>\n",
       "      <td>/home/dhakal/BTC_TF/data/Astrocitoma T1/02df13...</td>\n",
       "      <td>Astrocitoma T1</td>\n",
       "    </tr>\n",
       "    <tr>\n",
       "      <th>4</th>\n",
       "      <td>/home/dhakal/BTC_TF/data/Astrocitoma T1/044d8d...</td>\n",
       "      <td>Astrocitoma T1</td>\n",
       "    </tr>\n",
       "  </tbody>\n",
       "</table>\n",
       "</div>"
      ],
      "text/plain": [
       "                                          image_path           label\n",
       "0  /home/dhakal/BTC_TF/data/Astrocitoma T1/005_bi...  Astrocitoma T1\n",
       "1  /home/dhakal/BTC_TF/data/Astrocitoma T1/006_bi...  Astrocitoma T1\n",
       "2  /home/dhakal/BTC_TF/data/Astrocitoma T1/01809e...  Astrocitoma T1\n",
       "3  /home/dhakal/BTC_TF/data/Astrocitoma T1/02df13...  Astrocitoma T1\n",
       "4  /home/dhakal/BTC_TF/data/Astrocitoma T1/044d8d...  Astrocitoma T1"
      ]
     },
     "execution_count": 6,
     "metadata": {},
     "output_type": "execute_result"
    }
   ],
   "source": [
    "main_df.head()"
   ]
  },
  {
   "cell_type": "code",
   "execution_count": 7,
   "id": "949f1222-969c-4f07-90e8-4c8f77069319",
   "metadata": {},
   "outputs": [
    {
     "data": {
      "text/plain": [
       "44"
      ]
     },
     "execution_count": 7,
     "metadata": {},
     "output_type": "execute_result"
    }
   ],
   "source": [
    "len(main_df['label'].unique())"
   ]
  },
  {
   "cell_type": "code",
   "execution_count": 8,
   "id": "4fe29057-c2c4-408b-8c0f-ec601031a98c",
   "metadata": {},
   "outputs": [
    {
     "data": {
      "text/plain": [
       "(4479, 2)"
      ]
     },
     "execution_count": 8,
     "metadata": {},
     "output_type": "execute_result"
    }
   ],
   "source": [
    "main_df.shape"
   ]
  },
  {
   "cell_type": "code",
   "execution_count": 9,
   "id": "d4100ccf-d70b-40db-81ee-c3b4036adeec",
   "metadata": {
    "scrolled": true
   },
   "outputs": [
    {
     "data": {
      "text/plain": [
       "label\n",
       "Meningioma T1C+           369\n",
       "Meningioma T1             272\n",
       "_NORMAL T2                271\n",
       "_NORMAL T1                251\n",
       "Astrocitoma T1C+          233\n",
       "Meningioma T2             233\n",
       "Neurocitoma T1C+          223\n",
       "Schwannoma T1C+           194\n",
       "Astrocitoma T1            176\n",
       "Astrocitoma T2            171\n",
       "Schwannoma T1             148\n",
       "Neurocitoma T1            130\n",
       "Schwannoma T2             123\n",
       "Carcinoma T1C+            112\n",
       "Papiloma T1C+             108\n",
       "Neurocitoma T2            104\n",
       "Glioblastoma T1C+          94\n",
       "Oligodendroglioma T1       86\n",
       "Tuberculoma T1C+           84\n",
       "Carcinoma T2               73\n",
       "Oligodendroglioma T1C+     72\n",
       "Meduloblastoma T1C+        67\n",
       "Papiloma T1                66\n",
       "Oligodendroglioma T2       66\n",
       "Carcinoma T1               66\n",
       "Papiloma T2                63\n",
       "Ependimoma T2              57\n",
       "Glioblastoma T2            55\n",
       "Glioblastoma T1            55\n",
       "Ependimoma T1C+            48\n",
       "Ependimoma T1              45\n",
       "Meduloblastoma T2          41\n",
       "Germinoma T1C+             40\n",
       "Tuberculoma T2             33\n",
       "Germinoma T2               33\n",
       "Granuloma T1C+             31\n",
       "Granuloma T1               30\n",
       "Tuberculoma T1             28\n",
       "Germinoma T1               27\n",
       "Ganglioglioma T2           23\n",
       "Meduloblastoma T1          23\n",
       "Ganglioglioma T1           20\n",
       "Ganglioglioma T1C+         18\n",
       "Granuloma T2               17\n",
       "Name: count, dtype: int64"
      ]
     },
     "execution_count": 9,
     "metadata": {},
     "output_type": "execute_result"
    }
   ],
   "source": [
    "main_df['label'].value_counts()"
   ]
  },
  {
   "cell_type": "code",
   "execution_count": 10,
   "id": "2e0563b8",
   "metadata": {},
   "outputs": [],
   "source": [
    "image_size = 150\n",
    "data = []\n",
    "for img in main_df['image_path']:\n",
    "    image = cv2.imread(img)\n",
    "    image = cv2.resize(image,(image_size,image_size))\n",
    "    image = np.array(image/255)\n",
    "    data.append(image)"
   ]
  },
  {
   "cell_type": "code",
   "execution_count": 11,
   "id": "fbf982fe",
   "metadata": {},
   "outputs": [],
   "source": [
    "data = np.array(data)"
   ]
  },
  {
   "cell_type": "code",
   "execution_count": 12,
   "id": "a08ce4aa",
   "metadata": {},
   "outputs": [
    {
     "data": {
      "text/plain": [
       "(4479, 150, 150, 3)"
      ]
     },
     "execution_count": 12,
     "metadata": {},
     "output_type": "execute_result"
    }
   ],
   "source": [
    "data.shape"
   ]
  },
  {
   "cell_type": "code",
   "execution_count": 13,
   "id": "1147b2ab",
   "metadata": {},
   "outputs": [],
   "source": [
    "labels = np.array(main_df['label'])"
   ]
  },
  {
   "cell_type": "code",
   "execution_count": 14,
   "id": "9e57ea4e",
   "metadata": {},
   "outputs": [
    {
     "data": {
      "text/plain": [
       "(4479,)"
      ]
     },
     "execution_count": 14,
     "metadata": {},
     "output_type": "execute_result"
    }
   ],
   "source": [
    "labels.shape"
   ]
  },
  {
   "cell_type": "code",
   "execution_count": 15,
   "id": "b5f5f1f2",
   "metadata": {},
   "outputs": [
    {
     "data": {
      "text/plain": [
       "array(['Astrocitoma T1', 'Astrocitoma T1', 'Astrocitoma T1', ...,\n",
       "       '_NORMAL T2', '_NORMAL T2', '_NORMAL T2'], dtype=object)"
      ]
     },
     "execution_count": 15,
     "metadata": {},
     "output_type": "execute_result"
    }
   ],
   "source": [
    "labels"
   ]
  },
  {
   "cell_type": "code",
   "execution_count": 16,
   "id": "26bda8e9",
   "metadata": {},
   "outputs": [
    {
     "name": "stdout",
     "output_type": "stream",
     "text": [
      "[[1 0 0 ... 0 0 0]\n",
      " [1 0 0 ... 0 0 0]\n",
      " [1 0 0 ... 0 0 0]\n",
      " ...\n",
      " [0 0 0 ... 0 0 1]\n",
      " [0 0 0 ... 0 0 1]\n",
      " [0 0 0 ... 0 0 1]]\n"
     ]
    }
   ],
   "source": [
    "lb = LabelBinarizer()\n",
    "labels = lb.fit_transform(labels)\n",
    "print(labels)"
   ]
  },
  {
   "cell_type": "code",
   "execution_count": 17,
   "id": "60d80038",
   "metadata": {},
   "outputs": [
    {
     "name": "stdout",
     "output_type": "stream",
     "text": [
      "(3359, 150, 150, 3)\n",
      "(1120, 150, 150, 3)\n"
     ]
    }
   ],
   "source": [
    "(trainX, testX, trainY, testY) = train_test_split(np.array(data),\n",
    "    np.array(labels), test_size=0.25)\n",
    "print(trainX.shape)\n",
    "print(testX.shape)"
   ]
  },
  {
   "cell_type": "code",
   "execution_count": 18,
   "id": "cc15cd46",
   "metadata": {},
   "outputs": [],
   "source": [
    "class AlexNet(Sequential):\n",
    "    def __init__(self, input_shape, num_classes):\n",
    "        super().__init__()\n",
    "\n",
    "        self.add(Conv2D(96, kernel_size=(11,11), strides= 4,\n",
    "                        padding= 'same', activation= 'relu',\n",
    "                         input_shape= input_shape,\n",
    "                        kernel_initializer= 'he_normal'))\n",
    "        \n",
    "        self.add(MaxPooling2D(pool_size=(3,3), strides= (2,2),\n",
    "                              padding= 'same', data_format= None))\n",
    "\n",
    "        self.add(Conv2D(256, kernel_size=(5,5), strides= 1,\n",
    "                        padding= 'same', activation= 'relu',\n",
    "                        kernel_initializer= 'he_normal'))\n",
    "        \n",
    "        self.add(MaxPooling2D(pool_size=(3,3), strides= (2,2),\n",
    "                              padding= 'same', data_format= None)) \n",
    "\n",
    "        self.add(Conv2D(384, kernel_size=(3,3), strides= 1,\n",
    "                        padding= 'same', activation= 'relu',\n",
    "                        kernel_initializer= 'he_normal'))\n",
    "\n",
    "        self.add(Conv2D(384, kernel_size=(3,3), strides= 1,\n",
    "                        padding= 'same', activation= 'relu',\n",
    "                        kernel_initializer= 'he_normal'))\n",
    "\n",
    "        self.add(Conv2D(256, kernel_size=(3,3), strides= 1,\n",
    "                        padding= 'same', activation= 'relu',\n",
    "                        kernel_initializer= 'he_normal'))\n",
    "\n",
    "        self.add(MaxPooling2D(pool_size=(3,3), strides= (2,2),\n",
    "                              padding= 'same', data_format= None))\n",
    "\n",
    "        self.add(Flatten())\n",
    "        self.add(Dense(4096, activation= 'relu'))\n",
    "        self.add(Dense(4096, activation= 'relu'))\n",
    "        self.add(Dense(1000, activation= 'relu'))\n",
    "        self.add(Dense(num_classes, activation= 'softmax'))"
   ]
  },
  {
   "cell_type": "code",
   "execution_count": 19,
   "id": "03da9302",
   "metadata": {},
   "outputs": [
    {
     "name": "stderr",
     "output_type": "stream",
     "text": [
      "2023-07-27 12:10:49.781845: W tensorflow/core/common_runtime/gpu/gpu_device.cc:1960] Cannot dlopen some GPU libraries. Please make sure the missing libraries mentioned above are installed properly if you would like to use GPU. Follow the guide at https://www.tensorflow.org/install/gpu for how to download and setup the required libraries for your platform.\n",
      "Skipping registering GPU devices...\n"
     ]
    }
   ],
   "source": [
    "model = AlexNet((150, 150, 3), 44)"
   ]
  },
  {
   "cell_type": "code",
   "execution_count": 20,
   "id": "0a5f8369",
   "metadata": {},
   "outputs": [
    {
     "name": "stdout",
     "output_type": "stream",
     "text": [
      "Model: \"alex_net\"\n",
      "_________________________________________________________________\n",
      " Layer (type)                Output Shape              Param #   \n",
      "=================================================================\n",
      " conv2d (Conv2D)             (None, 38, 38, 96)        34944     \n",
      "                                                                 \n",
      " max_pooling2d (MaxPooling2  (None, 19, 19, 96)        0         \n",
      " D)                                                              \n",
      "                                                                 \n",
      " conv2d_1 (Conv2D)           (None, 19, 19, 256)       614656    \n",
      "                                                                 \n",
      " max_pooling2d_1 (MaxPoolin  (None, 10, 10, 256)       0         \n",
      " g2D)                                                            \n",
      "                                                                 \n",
      " conv2d_2 (Conv2D)           (None, 10, 10, 384)       885120    \n",
      "                                                                 \n",
      " conv2d_3 (Conv2D)           (None, 10, 10, 384)       1327488   \n",
      "                                                                 \n",
      " conv2d_4 (Conv2D)           (None, 10, 10, 256)       884992    \n",
      "                                                                 \n",
      " max_pooling2d_2 (MaxPoolin  (None, 5, 5, 256)         0         \n",
      " g2D)                                                            \n",
      "                                                                 \n",
      " flatten (Flatten)           (None, 6400)              0         \n",
      "                                                                 \n",
      " dense (Dense)               (None, 4096)              26218496  \n",
      "                                                                 \n",
      " dense_1 (Dense)             (None, 4096)              16781312  \n",
      "                                                                 \n",
      " dense_2 (Dense)             (None, 1000)              4097000   \n",
      "                                                                 \n",
      " dense_3 (Dense)             (None, 44)                44044     \n",
      "                                                                 \n",
      "=================================================================\n",
      "Total params: 50888052 (194.12 MB)\n",
      "Trainable params: 50888052 (194.12 MB)\n",
      "Non-trainable params: 0 (0.00 Byte)\n",
      "_________________________________________________________________\n"
     ]
    }
   ],
   "source": [
    "opt = Adamax (learning_rate=0.0001)\n",
    "model.compile(loss='categorical_crossentropy', optimizer=opt, metrics=['accuracy'])\n",
    "model.summary()"
   ]
  },
  {
   "cell_type": "code",
   "execution_count": 21,
   "id": "5aa91d53",
   "metadata": {},
   "outputs": [
    {
     "name": "stdout",
     "output_type": "stream",
     "text": [
      "Epoch 1/50\n",
      "105/105 [==============================] - 51s 473ms/step - loss: 3.2313 - accuracy: 0.1533 - val_loss: 2.8302 - val_accuracy: 0.2366\n",
      "Epoch 2/50\n",
      "105/105 [==============================] - 44s 420ms/step - loss: 2.4084 - accuracy: 0.3578 - val_loss: 2.2009 - val_accuracy: 0.4196\n",
      "Epoch 3/50\n",
      "105/105 [==============================] - 43s 414ms/step - loss: 1.8343 - accuracy: 0.4987 - val_loss: 1.7072 - val_accuracy: 0.5375\n",
      "Epoch 4/50\n",
      "105/105 [==============================] - 44s 419ms/step - loss: 1.4030 - accuracy: 0.6070 - val_loss: 1.4265 - val_accuracy: 0.5946\n",
      "Epoch 5/50\n",
      "105/105 [==============================] - 43s 407ms/step - loss: 1.0570 - accuracy: 0.6993 - val_loss: 1.1768 - val_accuracy: 0.6902\n",
      "Epoch 6/50\n",
      "105/105 [==============================] - 42s 404ms/step - loss: 0.7899 - accuracy: 0.7862 - val_loss: 1.0571 - val_accuracy: 0.7161\n",
      "Epoch 7/50\n",
      "105/105 [==============================] - 43s 406ms/step - loss: 0.6279 - accuracy: 0.8273 - val_loss: 0.9583 - val_accuracy: 0.7393\n",
      "Epoch 8/50\n",
      "105/105 [==============================] - 44s 416ms/step - loss: 0.4838 - accuracy: 0.8645 - val_loss: 0.7832 - val_accuracy: 0.7786\n",
      "Epoch 9/50\n",
      "105/105 [==============================] - 42s 403ms/step - loss: 0.3593 - accuracy: 0.8976 - val_loss: 0.6754 - val_accuracy: 0.8062\n",
      "Epoch 10/50\n",
      "105/105 [==============================] - 42s 398ms/step - loss: 0.2992 - accuracy: 0.9196 - val_loss: 0.6876 - val_accuracy: 0.7982\n",
      "Epoch 11/50\n",
      "105/105 [==============================] - 42s 396ms/step - loss: 0.2474 - accuracy: 0.9336 - val_loss: 0.5415 - val_accuracy: 0.8429\n",
      "Epoch 12/50\n",
      "105/105 [==============================] - 41s 393ms/step - loss: 0.1551 - accuracy: 0.9598 - val_loss: 0.5847 - val_accuracy: 0.8438\n",
      "Epoch 13/50\n",
      "105/105 [==============================] - 42s 395ms/step - loss: 0.1254 - accuracy: 0.9699 - val_loss: 0.6581 - val_accuracy: 0.8277\n",
      "Epoch 14/50\n",
      "105/105 [==============================] - 42s 399ms/step - loss: 0.1109 - accuracy: 0.9738 - val_loss: 0.5373 - val_accuracy: 0.8571\n",
      "Epoch 15/50\n",
      "105/105 [==============================] - 42s 402ms/step - loss: 0.1049 - accuracy: 0.9756 - val_loss: 0.5723 - val_accuracy: 0.8473\n",
      "Epoch 16/50\n",
      "105/105 [==============================] - 42s 399ms/step - loss: 0.0936 - accuracy: 0.9738 - val_loss: 0.5900 - val_accuracy: 0.8286\n",
      "Epoch 17/50\n",
      "105/105 [==============================] - 42s 402ms/step - loss: 0.0884 - accuracy: 0.9801 - val_loss: 0.4857 - val_accuracy: 0.8670\n",
      "Epoch 18/50\n",
      "105/105 [==============================] - 43s 407ms/step - loss: 0.0584 - accuracy: 0.9860 - val_loss: 0.3880 - val_accuracy: 0.8902\n",
      "Epoch 19/50\n",
      "105/105 [==============================] - 43s 407ms/step - loss: 0.0343 - accuracy: 0.9937 - val_loss: 0.3818 - val_accuracy: 0.8973\n",
      "Epoch 20/50\n",
      "105/105 [==============================] - 42s 403ms/step - loss: 0.0384 - accuracy: 0.9893 - val_loss: 0.4555 - val_accuracy: 0.8768\n",
      "Epoch 21/50\n",
      "105/105 [==============================] - 43s 411ms/step - loss: 0.0857 - accuracy: 0.9806 - val_loss: 0.5185 - val_accuracy: 0.8571\n",
      "Epoch 22/50\n",
      "105/105 [==============================] - 44s 415ms/step - loss: 0.0317 - accuracy: 0.9940 - val_loss: 0.4400 - val_accuracy: 0.8911\n",
      "Epoch 23/50\n",
      "105/105 [==============================] - 42s 404ms/step - loss: 0.0326 - accuracy: 0.9937 - val_loss: 0.4083 - val_accuracy: 0.8893\n",
      "Epoch 24/50\n",
      "105/105 [==============================] - 43s 409ms/step - loss: 0.0528 - accuracy: 0.9878 - val_loss: 0.4258 - val_accuracy: 0.8920\n",
      "Epoch 25/50\n",
      "105/105 [==============================] - 43s 405ms/step - loss: 0.0338 - accuracy: 0.9932 - val_loss: 0.3720 - val_accuracy: 0.9000\n",
      "Epoch 26/50\n",
      "105/105 [==============================] - 43s 407ms/step - loss: 0.0196 - accuracy: 0.9964 - val_loss: 0.3938 - val_accuracy: 0.9045\n",
      "Epoch 27/50\n",
      "105/105 [==============================] - 43s 406ms/step - loss: 0.0337 - accuracy: 0.9932 - val_loss: 0.5034 - val_accuracy: 0.8696\n",
      "Epoch 28/50\n",
      "105/105 [==============================] - 43s 409ms/step - loss: 0.0669 - accuracy: 0.9818 - val_loss: 0.4033 - val_accuracy: 0.8929\n",
      "Epoch 29/50\n",
      "105/105 [==============================] - 43s 413ms/step - loss: 0.0232 - accuracy: 0.9955 - val_loss: 0.4485 - val_accuracy: 0.8902\n",
      "Epoch 30/50\n",
      "105/105 [==============================] - 43s 411ms/step - loss: 0.0191 - accuracy: 0.9958 - val_loss: 0.4399 - val_accuracy: 0.8938\n",
      "Epoch 31/50\n",
      "105/105 [==============================] - 43s 409ms/step - loss: 0.0221 - accuracy: 0.9935 - val_loss: 0.4089 - val_accuracy: 0.8929\n",
      "Epoch 32/50\n",
      "105/105 [==============================] - 43s 407ms/step - loss: 0.0321 - accuracy: 0.9914 - val_loss: 0.3696 - val_accuracy: 0.9036\n",
      "Epoch 33/50\n",
      "105/105 [==============================] - 43s 411ms/step - loss: 0.0210 - accuracy: 0.9940 - val_loss: 0.3921 - val_accuracy: 0.9036\n",
      "Epoch 34/50\n",
      "105/105 [==============================] - 42s 405ms/step - loss: 0.0168 - accuracy: 0.9961 - val_loss: 0.3925 - val_accuracy: 0.9018\n",
      "Epoch 35/50\n",
      "105/105 [==============================] - 42s 404ms/step - loss: 0.0215 - accuracy: 0.9955 - val_loss: 0.3766 - val_accuracy: 0.9027\n",
      "Epoch 36/50\n",
      "105/105 [==============================] - 43s 406ms/step - loss: 0.0229 - accuracy: 0.9946 - val_loss: 0.4059 - val_accuracy: 0.9098\n",
      "Epoch 37/50\n",
      "105/105 [==============================] - 42s 404ms/step - loss: 0.0290 - accuracy: 0.9935 - val_loss: 0.3903 - val_accuracy: 0.9027\n",
      "Epoch 38/50\n",
      "105/105 [==============================] - 43s 413ms/step - loss: 0.0419 - accuracy: 0.9890 - val_loss: 0.3770 - val_accuracy: 0.9116\n",
      "Epoch 39/50\n",
      "105/105 [==============================] - 43s 409ms/step - loss: 0.0104 - accuracy: 0.9970 - val_loss: 0.3390 - val_accuracy: 0.9205\n",
      "Epoch 40/50\n",
      "105/105 [==============================] - 42s 403ms/step - loss: 0.0103 - accuracy: 0.9970 - val_loss: 0.3407 - val_accuracy: 0.9232\n",
      "Epoch 41/50\n",
      "105/105 [==============================] - 42s 400ms/step - loss: 0.0100 - accuracy: 0.9967 - val_loss: 0.3405 - val_accuracy: 0.9170\n",
      "Epoch 42/50\n",
      "105/105 [==============================] - 41s 395ms/step - loss: 0.0110 - accuracy: 0.9964 - val_loss: 0.3386 - val_accuracy: 0.9205\n",
      "Epoch 43/50\n",
      "105/105 [==============================] - 41s 395ms/step - loss: 0.0197 - accuracy: 0.9952 - val_loss: 0.5712 - val_accuracy: 0.8464\n",
      "Epoch 44/50\n",
      "105/105 [==============================] - 41s 392ms/step - loss: 0.0138 - accuracy: 0.9961 - val_loss: 0.3615 - val_accuracy: 0.9062\n",
      "Epoch 45/50\n",
      "105/105 [==============================] - 42s 399ms/step - loss: 0.0115 - accuracy: 0.9961 - val_loss: 0.3719 - val_accuracy: 0.9098\n",
      "Epoch 46/50\n",
      "105/105 [==============================] - 41s 393ms/step - loss: 0.0139 - accuracy: 0.9964 - val_loss: 0.4186 - val_accuracy: 0.8991\n",
      "Epoch 47/50\n",
      "105/105 [==============================] - 41s 394ms/step - loss: 0.0343 - accuracy: 0.9911 - val_loss: 0.3517 - val_accuracy: 0.9098\n",
      "Epoch 48/50\n",
      "105/105 [==============================] - 41s 395ms/step - loss: 0.0209 - accuracy: 0.9952 - val_loss: 0.3992 - val_accuracy: 0.9143\n",
      "Epoch 49/50\n",
      "105/105 [==============================] - 41s 390ms/step - loss: 0.0128 - accuracy: 0.9973 - val_loss: 0.3411 - val_accuracy: 0.9161\n",
      "Epoch 50/50\n",
      "105/105 [==============================] - 41s 389ms/step - loss: 0.0096 - accuracy: 0.9967 - val_loss: 0.3318 - val_accuracy: 0.9134\n"
     ]
    }
   ],
   "source": [
    "H = model.fit(trainX, trainY, validation_data=(testX, testY), epochs=50, batch_size=32)"
   ]
  },
  {
   "cell_type": "code",
   "execution_count": 23,
   "id": "ab33d159",
   "metadata": {},
   "outputs": [
    {
     "name": "stdout",
     "output_type": "stream",
     "text": [
      "dict_keys(['loss', 'accuracy', 'val_loss', 'val_accuracy'])\n"
     ]
    },
    {
     "data": {
      "image/png": "[encoded data removed]",
      "text/plain": [
       "<Figure size 640x480 with 1 Axes>"
      ]
     },
     "metadata": {},
     "output_type": "display_data"
    },
    {
     "data": {
      "image/png": "[encoded data removed]",
      "text/plain": [
       "<Figure size 640x480 with 1 Axes>"
      ]
     },
     "metadata": {},
     "output_type": "display_data"
    }
   ],
   "source": [
    "print(H.history.keys())\n",
    "# summarize history for accuracy\n",
    "plt.plot(H.history['accuracy'])\n",
    "plt.plot(H.history['val_accuracy'])\n",
    "plt.title('MODEL ACCURACY')\n",
    "plt.ylabel('Accuracy')\n",
    "plt.xlabel('Epoch')\n",
    "plt.legend(['Training Data', 'Testing Data'], loc='lower right')\n",
    "X = np.linspace(0, 100, 100)\n",
    "# plt.ylim(.1, 1.1)\n",
    "plt.show()\n",
    "\n",
    "# summarize history for loss\n",
    "plt.plot(H.history['loss'])\n",
    "plt.plot(H.history['val_loss'])\n",
    "plt.title('MODEL LOSS')\n",
    "plt.ylabel('Loss')\n",
    "plt.xlabel('Epoch')\n",
    "plt.legend(['Training Data', 'Testing Data'], loc='upper right')\n",
    "X = np.linspace(0, 100, 100)\n",
    "# plt.ylim(-0.25, 1.75)\n",
    "plt.show()"
   ]
  },
  {
   "cell_type": "code",
   "execution_count": null,
   "id": "dd9cc9dc",
   "metadata": {},
   "outputs": [],
   "source": []
  }
 ],
 "metadata": {
  "kernelspec": {
   "display_name": "Python 3 (ipykernel)",
   "language": "python",
   "name": "python3"
  },
  "language_info": {
   "codemirror_mode": {
    "name": "ipython",
    "version": 3
   },
   "file_extension": ".py",
   "mimetype": "text/x-python",
   "name": "python",
   "nbconvert_exporter": "python",
   "pygments_lexer": "ipython3",
   "version": "3.11.4"
  }
 },
 "nbformat": 4,
 "nbformat_minor": 5
}
