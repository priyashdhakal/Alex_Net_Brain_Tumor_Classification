{
 "cells": [
  {
   "cell_type": "code",
   "execution_count": 1,
   "metadata": {
    "id": "43umWiJD6Ymo"
   },
   "outputs": [],
   "source": [
    "#Connect Google Drive\n",
    "from google.colab import drive"
   ]
  },
  {
   "cell_type": "code",
   "execution_count": 2,
   "metadata": {
    "colab": {
     "base_uri": "https://localhost:8080/"
    },
    "id": "lbvbWb2R6qSq",
    "outputId": "cfa92128-fe16-438c-bf5a-5b13351c2880"
   },
   "outputs": [
    {
     "name": "stdout",
     "output_type": "stream",
     "text": [
      "Mounted at /content/drive\n"
     ]
    }
   ],
   "source": [
    "#Akses Google Drive\n",
    "drive.mount('/content/drive')"
   ]
  },
  {
   "cell_type": "code",
   "execution_count": 3,
   "metadata": {
    "colab": {
     "base_uri": "https://localhost:8080/"
    },
    "id": "NRC_yaXF6uCY",
    "outputId": "adb9484a-8d73-4db9-80e3-ebcd8632ef0b"
   },
   "outputs": [
    {
     "name": "stdout",
     "output_type": "stream",
     "text": [
      "/content/drive/My Drive/Colab Notebooks\n"
     ]
    }
   ],
   "source": [
    "cd /content/drive/My Drive/Colab Notebooks"
   ]
  },
  {
   "cell_type": "code",
   "execution_count": 4,
   "metadata": {
    "id": "v1c13b1o6wuy"
   },
   "outputs": [],
   "source": [
    "#Library\n",
    "from tensorflow.keras import Model\n",
    "from tensorflow.keras.models import Sequential\n",
    "from tensorflow.keras.utils import to_categorical\n",
    "from tensorflow.keras.losses import categorical_crossentropy\n",
    "from tensorflow.keras.preprocessing.image import ImageDataGenerator\n",
    "from tensorflow.keras.layers import Dense, Flatten, Conv2D, MaxPooling2D, Dropout\n",
    "from sklearn.metrics import classification_report\n",
    "from sklearn.preprocessing import LabelBinarizer\n",
    "from sklearn.model_selection import train_test_split\n",
    "from sklearn.metrics import classification_report\n",
    "from PIL import Image\n",
    "from keras import backend as K\n",
    "from imutils import paths\n",
    "from keras.layers import Dropout\n",
    "import tensorflow as tf\n",
    "import cv2\n",
    "from matplotlib import pyplot as plt\n",
    "import numpy as np\n",
    "import os"
   ]
  },
  {
   "cell_type": "code",
   "execution_count": 5,
   "metadata": {
    "id": "DrNZLEl78VTa"
   },
   "outputs": [],
   "source": [
    "#Load Dataset\n",
    "imagePaths = paths.list_images(\"Dskin\")\n",
    "data = []\n",
    "labels = []"
   ]
  },
  {
   "cell_type": "code",
   "execution_count": 6,
   "metadata": {
    "id": "L6JpiF4H8Ybw"
   },
   "outputs": [],
   "source": [
    "#Resize & Normalisasi\n",
    "for imagePath in imagePaths:\n",
    "    image = Image.open(imagePath)\n",
    "    image = np.array(image.resize((50, 50))) / 255.0\n",
    "    data.append(image)\n",
    "\n",
    "    label = imagePath.split(os.path.sep)[-2]\n",
    "    labels.append(label)"
   ]
  },
  {
   "cell_type": "code",
   "execution_count": 7,
   "metadata": {
    "colab": {
     "base_uri": "https://localhost:8080/"
    },
    "id": "OXiQqlUPK-f6",
    "outputId": "f38a2807-9b70-4393-d1d9-eb15330486f6"
   },
   "outputs": [
    {
     "name": "stdout",
     "output_type": "stream",
     "text": [
      "(1500, 50, 50, 3)\n"
     ]
    }
   ],
   "source": [
    "#Cek data\n",
    "temp = np.array(data)\n",
    "print(temp.shape)"
   ]
  },
  {
   "cell_type": "code",
   "execution_count": 8,
   "metadata": {
    "colab": {
     "base_uri": "https://localhost:8080/"
    },
    "id": "egBbVvQNFi91",
    "outputId": "b6339750-48a7-4654-94c0-dc5090d4c694"
   },
   "outputs": [
    {
     "name": "stdout",
     "output_type": "stream",
     "text": [
      "(1500,)\n"
     ]
    }
   ],
   "source": [
    "#Cek Label\n",
    "temp2=np.array(labels)\n",
    "print(temp2.shape)"
   ]
  },
  {
   "cell_type": "code",
   "execution_count": 9,
   "metadata": {
    "colab": {
     "base_uri": "https://localhost:8080/"
    },
    "id": "4HgTK0lkMCnN",
    "outputId": "e818e910-55ef-4cd9-c989-5fff183187fd"
   },
   "outputs": [
    {
     "name": "stdout",
     "output_type": "stream",
     "text": [
      "['Acne (300)', 'Acne (300)', 'Acne (300)', 'Acne (300)', 'Acne (300)', 'Acne (300)', 'Acne (300)', 'Acne (300)', 'Acne (300)', 'Acne (300)', 'Acne (300)', 'Acne (300)', 'Acne (300)', 'Acne (300)', 'Acne (300)', 'Acne (300)', 'Acne (300)', 'Acne (300)', 'Acne (300)', 'Acne (300)', 'Acne (300)', 'Acne (300)', 'Acne (300)', 'Acne (300)', 'Acne (300)', 'Acne (300)', 'Acne (300)', 'Acne (300)', 'Acne (300)', 'Acne (300)', 'Acne (300)', 'Acne (300)', 'Acne (300)', 'Acne (300)', 'Acne (300)', 'Acne (300)', 'Acne (300)', 'Acne (300)', 'Acne (300)', 'Acne (300)', 'Acne (300)', 'Acne (300)', 'Acne (300)', 'Acne (300)', 'Acne (300)', 'Acne (300)', 'Acne (300)', 'Acne (300)', 'Acne (300)', 'Acne (300)', 'Acne (300)', 'Acne (300)', 'Acne (300)', 'Acne (300)', 'Acne (300)', 'Acne (300)', 'Acne (300)', 'Acne (300)', 'Acne (300)', 'Acne (300)', 'Acne (300)', 'Acne (300)', 'Acne (300)', 'Acne (300)', 'Acne (300)', 'Acne (300)', 'Acne (300)', 'Acne (300)', 'Acne (300)', 'Acne (300)', 'Acne (300)', 'Acne (300)', 'Acne (300)', 'Acne (300)', 'Acne (300)', 'Acne (300)', 'Acne (300)', 'Acne (300)', 'Acne (300)', 'Acne (300)', 'Acne (300)', 'Acne (300)', 'Acne (300)', 'Acne (300)', 'Acne (300)', 'Acne (300)', 'Acne (300)', 'Acne (300)', 'Acne (300)', 'Acne (300)', 'Acne (300)', 'Acne (300)', 'Acne (300)', 'Acne (300)', 'Acne (300)', 'Acne (300)', 'Acne (300)', 'Acne (300)', 'Acne (300)', 'Acne (300)', 'Acne (300)', 'Acne (300)', 'Acne (300)', 'Acne (300)', 'Acne (300)', 'Acne (300)', 'Acne (300)', 'Acne (300)', 'Acne (300)', 'Acne (300)', 'Acne (300)', 'Acne (300)', 'Acne (300)', 'Acne (300)', 'Acne (300)', 'Acne (300)', 'Acne (300)', 'Acne (300)', 'Acne (300)', 'Acne (300)', 'Acne (300)', 'Acne (300)', 'Acne (300)', 'Acne (300)', 'Acne (300)', 'Acne (300)', 'Acne (300)', 'Acne (300)', 'Acne (300)', 'Acne (300)', 'Acne (300)', 'Acne (300)', 'Acne (300)', 'Acne (300)', 'Acne (300)', 'Acne (300)', 'Acne (300)', 'Acne (300)', 'Acne (300)', 'Acne (300)', 'Acne (300)', 'Acne (300)', 'Acne (300)', 'Acne (300)', 'Acne (300)', 'Acne (300)', 'Acne (300)', 'Acne (300)', 'Acne (300)', 'Acne (300)', 'Acne (300)', 'Acne (300)', 'Acne (300)', 'Acne (300)', 'Acne (300)', 'Acne (300)', 'Acne (300)', 'Acne (300)', 'Acne (300)', 'Acne (300)', 'Acne (300)', 'Acne (300)', 'Acne (300)', 'Acne (300)', 'Acne (300)', 'Acne (300)', 'Acne (300)', 'Acne (300)', 'Acne (300)', 'Acne (300)', 'Acne (300)', 'Acne (300)', 'Acne (300)', 'Acne (300)', 'Acne (300)', 'Acne (300)', 'Acne (300)', 'Acne (300)', 'Acne (300)', 'Acne (300)', 'Acne (300)', 'Acne (300)', 'Acne (300)', 'Acne (300)', 'Acne (300)', 'Acne (300)', 'Acne (300)', 'Acne (300)', 'Acne (300)', 'Acne (300)', 'Acne (300)', 'Acne (300)', 'Acne (300)', 'Acne (300)', 'Acne (300)', 'Acne (300)', 'Acne (300)', 'Acne (300)', 'Acne (300)', 'Acne (300)', 'Acne (300)', 'Acne (300)', 'Acne (300)', 'Acne (300)', 'Acne (300)', 'Acne (300)', 'Acne (300)', 'Acne (300)', 'Acne (300)', 'Acne (300)', 'Acne (300)', 'Acne (300)', 'Acne (300)', 'Acne (300)', 'Acne (300)', 'Acne (300)', 'Acne (300)', 'Acne (300)', 'Acne (300)', 'Acne (300)', 'Acne (300)', 'Acne (300)', 'Acne (300)', 'Acne (300)', 'Acne (300)', 'Acne (300)', 'Acne (300)', 'Acne (300)', 'Acne (300)', 'Acne (300)', 'Acne (300)', 'Acne (300)', 'Acne (300)', 'Acne (300)', 'Acne (300)', 'Acne (300)', 'Acne (300)', 'Acne (300)', 'Acne (300)', 'Acne (300)', 'Acne (300)', 'Acne (300)', 'Acne (300)', 'Acne (300)', 'Acne (300)', 'Acne (300)', 'Acne (300)', 'Acne (300)', 'Acne (300)', 'Acne (300)', 'Acne (300)', 'Acne (300)', 'Acne (300)', 'Acne (300)', 'Acne (300)', 'Acne (300)', 'Acne (300)', 'Acne (300)', 'Acne (300)', 'Acne (300)', 'Acne (300)', 'Acne (300)', 'Acne (300)', 'Acne (300)', 'Acne (300)', 'Acne (300)', 'Acne (300)', 'Acne (300)', 'Acne (300)', 'Acne (300)', 'Acne (300)', 'Acne (300)', 'Acne (300)', 'Acne (300)', 'Acne (300)', 'Acne (300)', 'Acne (300)', 'Acne (300)', 'Acne (300)', 'Acne (300)', 'Acne (300)', 'Acne (300)', 'Acne (300)', 'Acne (300)', 'Acne (300)', 'Acne (300)', 'Acne (300)', 'Acne (300)', 'Acne (300)', 'Acne (300)', 'Acne (300)', 'Acne (300)', 'Acne (300)', 'Acne (300)', 'Acne (300)', 'Acne (300)', 'Acne (300)', 'Acne (300)', 'Acne (300)', 'Acne (300)', 'Cacar (300)', 'Cacar (300)', 'Cacar (300)', 'Cacar (300)', 'Cacar (300)', 'Cacar (300)', 'Cacar (300)', 'Cacar (300)', 'Cacar (300)', 'Cacar (300)', 'Cacar (300)', 'Cacar (300)', 'Cacar (300)', 'Cacar (300)', 'Cacar (300)', 'Cacar (300)', 'Cacar (300)', 'Cacar (300)', 'Cacar (300)', 'Cacar (300)', 'Cacar (300)', 'Cacar (300)', 'Cacar (300)', 'Cacar (300)', 'Cacar (300)', 'Cacar (300)', 'Cacar (300)', 'Cacar (300)', 'Cacar (300)', 'Cacar (300)', 'Cacar (300)', 'Cacar (300)', 'Cacar (300)', 'Cacar (300)', 'Cacar (300)', 'Cacar (300)', 'Cacar (300)', 'Cacar (300)', 'Cacar (300)', 'Cacar (300)', 'Cacar (300)', 'Cacar (300)', 'Cacar (300)', 'Cacar (300)', 'Cacar (300)', 'Cacar (300)', 'Cacar (300)', 'Cacar (300)', 'Cacar (300)', 'Cacar (300)', 'Cacar (300)', 'Cacar (300)', 'Cacar (300)', 'Cacar (300)', 'Cacar (300)', 'Cacar (300)', 'Cacar (300)', 'Cacar (300)', 'Cacar (300)', 'Cacar (300)', 'Cacar (300)', 'Cacar (300)', 'Cacar (300)', 'Cacar (300)', 'Cacar (300)', 'Cacar (300)', 'Cacar (300)', 'Cacar (300)', 'Cacar (300)', 'Cacar (300)', 'Cacar (300)', 'Cacar (300)', 'Cacar (300)', 'Cacar (300)', 'Cacar (300)', 'Cacar (300)', 'Cacar (300)', 'Cacar (300)', 'Cacar (300)', 'Cacar (300)', 'Cacar (300)', 'Cacar (300)', 'Cacar (300)', 'Cacar (300)', 'Cacar (300)', 'Cacar (300)', 'Cacar (300)', 'Cacar (300)', 'Cacar (300)', 'Cacar (300)', 'Cacar (300)', 'Cacar (300)', 'Cacar (300)', 'Cacar (300)', 'Cacar (300)', 'Cacar (300)', 'Cacar (300)', 'Cacar (300)', 'Cacar (300)', 'Cacar (300)', 'Cacar (300)', 'Cacar (300)', 'Cacar (300)', 'Cacar (300)', 'Cacar (300)', 'Cacar (300)', 'Cacar (300)', 'Cacar (300)', 'Cacar (300)', 'Cacar (300)', 'Cacar (300)', 'Cacar (300)', 'Cacar (300)', 'Cacar (300)', 'Cacar (300)', 'Cacar (300)', 'Cacar (300)', 'Cacar (300)', 'Cacar (300)', 'Cacar (300)', 'Cacar (300)', 'Cacar (300)', 'Cacar (300)', 'Cacar (300)', 'Cacar (300)', 'Cacar (300)', 'Cacar (300)', 'Cacar (300)', 'Cacar (300)', 'Cacar (300)', 'Cacar (300)', 'Cacar (300)', 'Cacar (300)', 'Cacar (300)', 'Cacar (300)', 'Cacar (300)', 'Cacar (300)', 'Cacar (300)', 'Cacar (300)', 'Cacar (300)', 'Cacar (300)', 'Cacar (300)', 'Cacar (300)', 'Cacar (300)', 'Cacar (300)', 'Cacar (300)', 'Cacar (300)', 'Cacar (300)', 'Cacar (300)', 'Cacar (300)', 'Cacar (300)', 'Cacar (300)', 'Cacar (300)', 'Cacar (300)', 'Cacar (300)', 'Cacar (300)', 'Cacar (300)', 'Cacar (300)', 'Cacar (300)', 'Cacar (300)', 'Cacar (300)', 'Cacar (300)', 'Cacar (300)', 'Cacar (300)', 'Cacar (300)', 'Cacar (300)', 'Cacar (300)', 'Cacar (300)', 'Cacar (300)', 'Cacar (300)', 'Cacar (300)', 'Cacar (300)', 'Cacar (300)', 'Cacar (300)', 'Cacar (300)', 'Cacar (300)', 'Cacar (300)', 'Cacar (300)', 'Cacar (300)', 'Cacar (300)', 'Cacar (300)', 'Cacar (300)', 'Cacar (300)', 'Cacar (300)', 'Cacar (300)', 'Cacar (300)', 'Cacar (300)', 'Cacar (300)', 'Cacar (300)', 'Cacar (300)', 'Cacar (300)', 'Cacar (300)', 'Cacar (300)', 'Cacar (300)', 'Cacar (300)', 'Cacar (300)', 'Cacar (300)', 'Cacar (300)', 'Cacar (300)', 'Cacar (300)', 'Cacar (300)', 'Cacar (300)', 'Cacar (300)', 'Cacar (300)', 'Cacar (300)', 'Cacar (300)', 'Cacar (300)', 'Cacar (300)', 'Cacar (300)', 'Cacar (300)', 'Cacar (300)', 'Cacar (300)', 'Cacar (300)', 'Cacar (300)', 'Cacar (300)', 'Cacar (300)', 'Cacar (300)', 'Cacar (300)', 'Cacar (300)', 'Cacar (300)', 'Cacar (300)', 'Cacar (300)', 'Cacar (300)', 'Cacar (300)', 'Cacar (300)', 'Cacar (300)', 'Cacar (300)', 'Cacar (300)', 'Cacar (300)', 'Cacar (300)', 'Cacar (300)', 'Cacar (300)', 'Cacar (300)', 'Cacar (300)', 'Cacar (300)', 'Cacar (300)', 'Cacar (300)', 'Cacar (300)', 'Cacar (300)', 'Cacar (300)', 'Cacar (300)', 'Cacar (300)', 'Cacar (300)', 'Cacar (300)', 'Cacar (300)', 'Cacar (300)', 'Cacar (300)', 'Cacar (300)', 'Cacar (300)', 'Cacar (300)', 'Cacar (300)', 'Cacar (300)', 'Cacar (300)', 'Cacar (300)', 'Cacar (300)', 'Cacar (300)', 'Cacar (300)', 'Cacar (300)', 'Cacar (300)', 'Cacar (300)', 'Cacar (300)', 'Cacar (300)', 'Cacar (300)', 'Cacar (300)', 'Cacar (300)', 'Cacar (300)', 'Cacar (300)', 'Cacar (300)', 'Cacar (300)', 'Cacar (300)', 'Cacar (300)', 'Cacar (300)', 'Cacar (300)', 'Cacar (300)', 'Cacar (300)', 'Cacar (300)', 'Cacar (300)', 'Cacar (300)', 'Cacar (300)', 'Cacar (300)', 'Cacar (300)', 'Cacar (300)', 'Cacar (300)', 'Cacar (300)', 'Cacar (300)', 'Cacar (300)', 'Cacar (300)', 'Cacar (300)', 'Cacar (300)', 'Cacar (300)', 'Cacar (300)', 'Cacar (300)', 'Cacar (300)', 'Cacar (300)', 'Cacar (300)', 'Cacar (300)', 'Cacar (300)', 'Cacar (300)', 'Cacar (300)', 'Cacar (300)', 'Campak (300)', 'Campak (300)', 'Campak (300)', 'Campak (300)', 'Campak (300)', 'Campak (300)', 'Campak (300)', 'Campak (300)', 'Campak (300)', 'Campak (300)', 'Campak (300)', 'Campak (300)', 'Campak (300)', 'Campak (300)', 'Campak (300)', 'Campak (300)', 'Campak (300)', 'Campak (300)', 'Campak (300)', 'Campak (300)', 'Campak (300)', 'Campak (300)', 'Campak (300)', 'Campak (300)', 'Campak (300)', 'Campak (300)', 'Campak (300)', 'Campak (300)', 'Campak (300)', 'Campak (300)', 'Campak (300)', 'Campak (300)', 'Campak (300)', 'Campak (300)', 'Campak (300)', 'Campak (300)', 'Campak (300)', 'Campak (300)', 'Campak (300)', 'Campak (300)', 'Campak (300)', 'Campak (300)', 'Campak (300)', 'Campak (300)', 'Campak (300)', 'Campak (300)', 'Campak (300)', 'Campak (300)', 'Campak (300)', 'Campak (300)', 'Campak (300)', 'Campak (300)', 'Campak (300)', 'Campak (300)', 'Campak (300)', 'Campak (300)', 'Campak (300)', 'Campak (300)', 'Campak (300)', 'Campak (300)', 'Campak (300)', 'Campak (300)', 'Campak (300)', 'Campak (300)', 'Campak (300)', 'Campak (300)', 'Campak (300)', 'Campak (300)', 'Campak (300)', 'Campak (300)', 'Campak (300)', 'Campak (300)', 'Campak (300)', 'Campak (300)', 'Campak (300)', 'Campak (300)', 'Campak (300)', 'Campak (300)', 'Campak (300)', 'Campak (300)', 'Campak (300)', 'Campak (300)', 'Campak (300)', 'Campak (300)', 'Campak (300)', 'Campak (300)', 'Campak (300)', 'Campak (300)', 'Campak (300)', 'Campak (300)', 'Campak (300)', 'Campak (300)', 'Campak (300)', 'Campak (300)', 'Campak (300)', 'Campak (300)', 'Campak (300)', 'Campak (300)', 'Campak (300)', 'Campak (300)', 'Campak (300)', 'Campak (300)', 'Campak (300)', 'Campak (300)', 'Campak (300)', 'Campak (300)', 'Campak (300)', 'Campak (300)', 'Campak (300)', 'Campak (300)', 'Campak (300)', 'Campak (300)', 'Campak (300)', 'Campak (300)', 'Campak (300)', 'Campak (300)', 'Campak (300)', 'Campak (300)', 'Campak (300)', 'Campak (300)', 'Campak (300)', 'Campak (300)', 'Campak (300)', 'Campak (300)', 'Campak (300)', 'Campak (300)', 'Campak (300)', 'Campak (300)', 'Campak (300)', 'Campak (300)', 'Campak (300)', 'Campak (300)', 'Campak (300)', 'Campak (300)', 'Campak (300)', 'Campak (300)', 'Campak (300)', 'Campak (300)', 'Campak (300)', 'Campak (300)', 'Campak (300)', 'Campak (300)', 'Campak (300)', 'Campak (300)', 'Campak (300)', 'Campak (300)', 'Campak (300)', 'Campak (300)', 'Campak (300)', 'Campak (300)', 'Campak (300)', 'Campak (300)', 'Campak (300)', 'Campak (300)', 'Campak (300)', 'Campak (300)', 'Campak (300)', 'Campak (300)', 'Campak (300)', 'Campak (300)', 'Campak (300)', 'Campak (300)', 'Campak (300)', 'Campak (300)', 'Campak (300)', 'Campak (300)', 'Campak (300)', 'Campak (300)', 'Campak (300)', 'Campak (300)', 'Campak (300)', 'Campak (300)', 'Campak (300)', 'Campak (300)', 'Campak (300)', 'Campak (300)', 'Campak (300)', 'Campak (300)', 'Campak (300)', 'Campak (300)', 'Campak (300)', 'Campak (300)', 'Campak (300)', 'Campak (300)', 'Campak (300)', 'Campak (300)', 'Campak (300)', 'Campak (300)', 'Campak (300)', 'Campak (300)', 'Campak (300)', 'Campak (300)', 'Campak (300)', 'Campak (300)', 'Campak (300)', 'Campak (300)', 'Campak (300)', 'Campak (300)', 'Campak (300)', 'Campak (300)', 'Campak (300)', 'Campak (300)', 'Campak (300)', 'Campak (300)', 'Campak (300)', 'Campak (300)', 'Campak (300)', 'Campak (300)', 'Campak (300)', 'Campak (300)', 'Campak (300)', 'Campak (300)', 'Campak (300)', 'Campak (300)', 'Campak (300)', 'Campak (300)', 'Campak (300)', 'Campak (300)', 'Campak (300)', 'Campak (300)', 'Campak (300)', 'Campak (300)', 'Campak (300)', 'Campak (300)', 'Campak (300)', 'Campak (300)', 'Campak (300)', 'Campak (300)', 'Campak (300)', 'Campak (300)', 'Campak (300)', 'Campak (300)', 'Campak (300)', 'Campak (300)', 'Campak (300)', 'Campak (300)', 'Campak (300)', 'Campak (300)', 'Campak (300)', 'Campak (300)', 'Campak (300)', 'Campak (300)', 'Campak (300)', 'Campak (300)', 'Campak (300)', 'Campak (300)', 'Campak (300)', 'Campak (300)', 'Campak (300)', 'Campak (300)', 'Campak (300)', 'Campak (300)', 'Campak (300)', 'Campak (300)', 'Campak (300)', 'Campak (300)', 'Campak (300)', 'Campak (300)', 'Campak (300)', 'Campak (300)', 'Campak (300)', 'Campak (300)', 'Campak (300)', 'Campak (300)', 'Campak (300)', 'Campak (300)', 'Campak (300)', 'Campak (300)', 'Campak (300)', 'Campak (300)', 'Campak (300)', 'Campak (300)', 'Campak (300)', 'Campak (300)', 'Campak (300)', 'Campak (300)', 'Campak (300)', 'Campak (300)', 'Campak (300)', 'Campak (300)', 'Campak (300)', 'Campak (300)', 'Campak (300)', 'Campak (300)', 'Campak (300)', 'Campak (300)', 'Campak (300)', 'Campak (300)', 'Campak (300)', 'Campak (300)', 'Campak (300)', 'Campak (300)', 'Campak (300)', 'Campak (300)', 'Campak (300)', 'Campak (300)', 'Campak (300)', 'Campak (300)', 'Campak (300)', 'Campak (300)', 'Normal (300)', 'Normal (300)', 'Normal (300)', 'Normal (300)', 'Normal (300)', 'Normal (300)', 'Normal (300)', 'Normal (300)', 'Normal (300)', 'Normal (300)', 'Normal (300)', 'Normal (300)', 'Normal (300)', 'Normal (300)', 'Normal (300)', 'Normal (300)', 'Normal (300)', 'Normal (300)', 'Normal (300)', 'Normal (300)', 'Normal (300)', 'Normal (300)', 'Normal (300)', 'Normal (300)', 'Normal (300)', 'Normal (300)', 'Normal (300)', 'Normal (300)', 'Normal (300)', 'Normal (300)', 'Normal (300)', 'Normal (300)', 'Normal (300)', 'Normal (300)', 'Normal (300)', 'Normal (300)', 'Normal (300)', 'Normal (300)', 'Normal (300)', 'Normal (300)', 'Normal (300)', 'Normal (300)', 'Normal (300)', 'Normal (300)', 'Normal (300)', 'Normal (300)', 'Normal (300)', 'Normal (300)', 'Normal (300)', 'Normal (300)', 'Normal (300)', 'Normal (300)', 'Normal (300)', 'Normal (300)', 'Normal (300)', 'Normal (300)', 'Normal (300)', 'Normal (300)', 'Normal (300)', 'Normal (300)', 'Normal (300)', 'Normal (300)', 'Normal (300)', 'Normal (300)', 'Normal (300)', 'Normal (300)', 'Normal (300)', 'Normal (300)', 'Normal (300)', 'Normal (300)', 'Normal (300)', 'Normal (300)', 'Normal (300)', 'Normal (300)', 'Normal (300)', 'Normal (300)', 'Normal (300)', 'Normal (300)', 'Normal (300)', 'Normal (300)', 'Normal (300)', 'Normal (300)', 'Normal (300)', 'Normal (300)', 'Normal (300)', 'Normal (300)', 'Normal (300)', 'Normal (300)', 'Normal (300)', 'Normal (300)', 'Normal (300)', 'Normal (300)', 'Normal (300)', 'Normal (300)', 'Normal (300)', 'Normal (300)', 'Normal (300)', 'Normal (300)', 'Normal (300)', 'Normal (300)', 'Normal (300)', 'Normal (300)', 'Normal (300)', 'Normal (300)', 'Normal (300)', 'Normal (300)', 'Normal (300)', 'Normal (300)', 'Normal (300)', 'Normal (300)', 'Normal (300)', 'Normal (300)', 'Normal (300)', 'Normal (300)', 'Normal (300)', 'Normal (300)', 'Normal (300)', 'Normal (300)', 'Normal (300)', 'Normal (300)', 'Normal (300)', 'Normal (300)', 'Normal (300)', 'Normal (300)', 'Normal (300)', 'Normal (300)', 'Normal (300)', 'Normal (300)', 'Normal (300)', 'Normal (300)', 'Normal (300)', 'Normal (300)', 'Normal (300)', 'Normal (300)', 'Normal (300)', 'Normal (300)', 'Normal (300)', 'Normal (300)', 'Normal (300)', 'Normal (300)', 'Normal (300)', 'Normal (300)', 'Normal (300)', 'Normal (300)', 'Normal (300)', 'Normal (300)', 'Normal (300)', 'Normal (300)', 'Normal (300)', 'Normal (300)', 'Normal (300)', 'Normal (300)', 'Normal (300)', 'Normal (300)', 'Normal (300)', 'Normal (300)', 'Normal (300)', 'Normal (300)', 'Normal (300)', 'Normal (300)', 'Normal (300)', 'Normal (300)', 'Normal (300)', 'Normal (300)', 'Normal (300)', 'Normal (300)', 'Normal (300)', 'Normal (300)', 'Normal (300)', 'Normal (300)', 'Normal (300)', 'Normal (300)', 'Normal (300)', 'Normal (300)', 'Normal (300)', 'Normal (300)', 'Normal (300)', 'Normal (300)', 'Normal (300)', 'Normal (300)', 'Normal (300)', 'Normal (300)', 'Normal (300)', 'Normal (300)', 'Normal (300)', 'Normal (300)', 'Normal (300)', 'Normal (300)', 'Normal (300)', 'Normal (300)', 'Normal (300)', 'Normal (300)', 'Normal (300)', 'Normal (300)', 'Normal (300)', 'Normal (300)', 'Normal (300)', 'Normal (300)', 'Normal (300)', 'Normal (300)', 'Normal (300)', 'Normal (300)', 'Normal (300)', 'Normal (300)', 'Normal (300)', 'Normal (300)', 'Normal (300)', 'Normal (300)', 'Normal (300)', 'Normal (300)', 'Normal (300)', 'Normal (300)', 'Normal (300)', 'Normal (300)', 'Normal (300)', 'Normal (300)', 'Normal (300)', 'Normal (300)', 'Normal (300)', 'Normal (300)', 'Normal (300)', 'Normal (300)', 'Normal (300)', 'Normal (300)', 'Normal (300)', 'Normal (300)', 'Normal (300)', 'Normal (300)', 'Normal (300)', 'Normal (300)', 'Normal (300)', 'Normal (300)', 'Normal (300)', 'Normal (300)', 'Normal (300)', 'Normal (300)', 'Normal (300)', 'Normal (300)', 'Normal (300)', 'Normal (300)', 'Normal (300)', 'Normal (300)', 'Normal (300)', 'Normal (300)', 'Normal (300)', 'Normal (300)', 'Normal (300)', 'Normal (300)', 'Normal (300)', 'Normal (300)', 'Normal (300)', 'Normal (300)', 'Normal (300)', 'Normal (300)', 'Normal (300)', 'Normal (300)', 'Normal (300)', 'Normal (300)', 'Normal (300)', 'Normal (300)', 'Normal (300)', 'Normal (300)', 'Normal (300)', 'Normal (300)', 'Normal (300)', 'Normal (300)', 'Normal (300)', 'Normal (300)', 'Normal (300)', 'Normal (300)', 'Normal (300)', 'Normal (300)', 'Normal (300)', 'Normal (300)', 'Normal (300)', 'Normal (300)', 'Normal (300)', 'Normal (300)', 'Normal (300)', 'Normal (300)', 'Normal (300)', 'Normal (300)', 'Normal (300)', 'Normal (300)', 'Normal (300)', 'Normal (300)', 'Normal (300)', 'Normal (300)', 'Normal (300)', 'Normal (300)', 'Normal (300)', 'Normal (300)', 'Normal (300)', 'Normal (300)', 'Normal (300)', 'Normal (300)', 'Normal (300)', 'Normal (300)', 'Normal (300)', 'Normal (300)', 'Skabies (300)', 'Skabies (300)', 'Skabies (300)', 'Skabies (300)', 'Skabies (300)', 'Skabies (300)', 'Skabies (300)', 'Skabies (300)', 'Skabies (300)', 'Skabies (300)', 'Skabies (300)', 'Skabies (300)', 'Skabies (300)', 'Skabies (300)', 'Skabies (300)', 'Skabies (300)', 'Skabies (300)', 'Skabies (300)', 'Skabies (300)', 'Skabies (300)', 'Skabies (300)', 'Skabies (300)', 'Skabies (300)', 'Skabies (300)', 'Skabies (300)', 'Skabies (300)', 'Skabies (300)', 'Skabies (300)', 'Skabies (300)', 'Skabies (300)', 'Skabies (300)', 'Skabies (300)', 'Skabies (300)', 'Skabies (300)', 'Skabies (300)', 'Skabies (300)', 'Skabies (300)', 'Skabies (300)', 'Skabies (300)', 'Skabies (300)', 'Skabies (300)', 'Skabies (300)', 'Skabies (300)', 'Skabies (300)', 'Skabies (300)', 'Skabies (300)', 'Skabies (300)', 'Skabies (300)', 'Skabies (300)', 'Skabies (300)', 'Skabies (300)', 'Skabies (300)', 'Skabies (300)', 'Skabies (300)', 'Skabies (300)', 'Skabies (300)', 'Skabies (300)', 'Skabies (300)', 'Skabies (300)', 'Skabies (300)', 'Skabies (300)', 'Skabies (300)', 'Skabies (300)', 'Skabies (300)', 'Skabies (300)', 'Skabies (300)', 'Skabies (300)', 'Skabies (300)', 'Skabies (300)', 'Skabies (300)', 'Skabies (300)', 'Skabies (300)', 'Skabies (300)', 'Skabies (300)', 'Skabies (300)', 'Skabies (300)', 'Skabies (300)', 'Skabies (300)', 'Skabies (300)', 'Skabies (300)', 'Skabies (300)', 'Skabies (300)', 'Skabies (300)', 'Skabies (300)', 'Skabies (300)', 'Skabies (300)', 'Skabies (300)', 'Skabies (300)', 'Skabies (300)', 'Skabies (300)', 'Skabies (300)', 'Skabies (300)', 'Skabies (300)', 'Skabies (300)', 'Skabies (300)', 'Skabies (300)', 'Skabies (300)', 'Skabies (300)', 'Skabies (300)', 'Skabies (300)', 'Skabies (300)', 'Skabies (300)', 'Skabies (300)', 'Skabies (300)', 'Skabies (300)', 'Skabies (300)', 'Skabies (300)', 'Skabies (300)', 'Skabies (300)', 'Skabies (300)', 'Skabies (300)', 'Skabies (300)', 'Skabies (300)', 'Skabies (300)', 'Skabies (300)', 'Skabies (300)', 'Skabies (300)', 'Skabies (300)', 'Skabies (300)', 'Skabies (300)', 'Skabies (300)', 'Skabies (300)', 'Skabies (300)', 'Skabies (300)', 'Skabies (300)', 'Skabies (300)', 'Skabies (300)', 'Skabies (300)', 'Skabies (300)', 'Skabies (300)', 'Skabies (300)', 'Skabies (300)', 'Skabies (300)', 'Skabies (300)', 'Skabies (300)', 'Skabies (300)', 'Skabies (300)', 'Skabies (300)', 'Skabies (300)', 'Skabies (300)', 'Skabies (300)', 'Skabies (300)', 'Skabies (300)', 'Skabies (300)', 'Skabies (300)', 'Skabies (300)', 'Skabies (300)', 'Skabies (300)', 'Skabies (300)', 'Skabies (300)', 'Skabies (300)', 'Skabies (300)', 'Skabies (300)', 'Skabies (300)', 'Skabies (300)', 'Skabies (300)', 'Skabies (300)', 'Skabies (300)', 'Skabies (300)', 'Skabies (300)', 'Skabies (300)', 'Skabies (300)', 'Skabies (300)', 'Skabies (300)', 'Skabies (300)', 'Skabies (300)', 'Skabies (300)', 'Skabies (300)', 'Skabies (300)', 'Skabies (300)', 'Skabies (300)', 'Skabies (300)', 'Skabies (300)', 'Skabies (300)', 'Skabies (300)', 'Skabies (300)', 'Skabies (300)', 'Skabies (300)', 'Skabies (300)', 'Skabies (300)', 'Skabies (300)', 'Skabies (300)', 'Skabies (300)', 'Skabies (300)', 'Skabies (300)', 'Skabies (300)', 'Skabies (300)', 'Skabies (300)', 'Skabies (300)', 'Skabies (300)', 'Skabies (300)', 'Skabies (300)', 'Skabies (300)', 'Skabies (300)', 'Skabies (300)', 'Skabies (300)', 'Skabies (300)', 'Skabies (300)', 'Skabies (300)', 'Skabies (300)', 'Skabies (300)', 'Skabies (300)', 'Skabies (300)', 'Skabies (300)', 'Skabies (300)', 'Skabies (300)', 'Skabies (300)', 'Skabies (300)', 'Skabies (300)', 'Skabies (300)', 'Skabies (300)', 'Skabies (300)', 'Skabies (300)', 'Skabies (300)', 'Skabies (300)', 'Skabies (300)', 'Skabies (300)', 'Skabies (300)', 'Skabies (300)', 'Skabies (300)', 'Skabies (300)', 'Skabies (300)', 'Skabies (300)', 'Skabies (300)', 'Skabies (300)', 'Skabies (300)', 'Skabies (300)', 'Skabies (300)', 'Skabies (300)', 'Skabies (300)', 'Skabies (300)', 'Skabies (300)', 'Skabies (300)', 'Skabies (300)', 'Skabies (300)', 'Skabies (300)', 'Skabies (300)', 'Skabies (300)', 'Skabies (300)', 'Skabies (300)', 'Skabies (300)', 'Skabies (300)', 'Skabies (300)', 'Skabies (300)', 'Skabies (300)', 'Skabies (300)', 'Skabies (300)', 'Skabies (300)', 'Skabies (300)', 'Skabies (300)', 'Skabies (300)', 'Skabies (300)', 'Skabies (300)', 'Skabies (300)', 'Skabies (300)', 'Skabies (300)', 'Skabies (300)', 'Skabies (300)', 'Skabies (300)', 'Skabies (300)', 'Skabies (300)', 'Skabies (300)', 'Skabies (300)', 'Skabies (300)', 'Skabies (300)', 'Skabies (300)', 'Skabies (300)', 'Skabies (300)', 'Skabies (300)', 'Skabies (300)', 'Skabies (300)', 'Skabies (300)', 'Skabies (300)', 'Skabies (300)', 'Skabies (300)', 'Skabies (300)', 'Skabies (300)', 'Skabies (300)', 'Skabies (300)', 'Skabies (300)', 'Skabies (300)', 'Skabies (300)', 'Skabies (300)', 'Skabies (300)', 'Skabies (300)', 'Skabies (300)', 'Skabies (300)', 'Skabies (300)', 'Skabies (300)', 'Skabies (300)', 'Skabies (300)', 'Skabies (300)', 'Skabies (300)', 'Skabies (300)', 'Skabies (300)', 'Skabies (300)', 'Skabies (300)', 'Skabies (300)', 'Skabies (300)', 'Skabies (300)']\n"
     ]
    }
   ],
   "source": [
    "#Menampilkan Label data\n",
    "print(labels)"
   ]
  },
  {
   "cell_type": "code",
   "execution_count": 10,
   "metadata": {
    "colab": {
     "base_uri": "https://localhost:8080/"
    },
    "id": "giQKIE0C-Myl",
    "outputId": "5257687f-bfef-4144-ec44-9a7debc9cd5d"
   },
   "outputs": [
    {
     "name": "stdout",
     "output_type": "stream",
     "text": [
      "[[1 0 0 0 0]\n",
      " [1 0 0 0 0]\n",
      " [1 0 0 0 0]\n",
      " ...\n",
      " [0 0 0 0 1]\n",
      " [0 0 0 0 1]\n",
      " [0 0 0 0 1]]\n"
     ]
    }
   ],
   "source": [
    "#Mengubah label ke biner\n",
    "lb = LabelBinarizer()\n",
    "labels = lb.fit_transform(labels)\n",
    "print(labels)"
   ]
  },
  {
   "cell_type": "code",
   "execution_count": 11,
   "metadata": {
    "colab": {
     "base_uri": "https://localhost:8080/"
    },
    "id": "nNO-dTI59iLC",
    "outputId": "4680db37-940b-4337-80c6-f0e151bff092"
   },
   "outputs": [
    {
     "name": "stdout",
     "output_type": "stream",
     "text": [
      "(1125, 50, 50, 3)\n",
      "(375, 50, 50, 3)\n"
     ]
    }
   ],
   "source": [
    "#Membagi data latih dan uji\n",
    "(trainX, testX, trainY, testY) = train_test_split(np.array(data),\n",
    "    np.array(labels), test_size=0.25)\n",
    "print(trainX.shape)\n",
    "print(testX.shape)"
   ]
  },
  {
   "cell_type": "code",
   "execution_count": 12,
   "metadata": {
    "id": "iTljjjlq-YRd"
   },
   "outputs": [],
   "source": [
    "#Model arsitektur AlexNet\n",
    "class AlexNet(Sequential):\n",
    "    def __init__(self, input_shape, num_classes):\n",
    "        super().__init__()\n",
    "\n",
    "        self.add(Conv2D(96, kernel_size=(11,11), strides= 4,\n",
    "                        padding= 'same', activation= 'relu',\n",
    "                         input_shape= input_shape,\n",
    "                        kernel_initializer= 'he_normal'))\n",
    "        \n",
    "        self.add(MaxPooling2D(pool_size=(3,3), strides= (2,2),\n",
    "                              padding= 'same', data_format= None))\n",
    "\n",
    "        self.add(Conv2D(256, kernel_size=(5,5), strides= 1,\n",
    "                        padding= 'same', activation= 'relu',\n",
    "                        kernel_initializer= 'he_normal'))\n",
    "        \n",
    "        self.add(MaxPooling2D(pool_size=(3,3), strides= (2,2),\n",
    "                              padding= 'same', data_format= None)) \n",
    "\n",
    "        self.add(Conv2D(384, kernel_size=(3,3), strides= 1,\n",
    "                        padding= 'same', activation= 'relu',\n",
    "                        kernel_initializer= 'he_normal'))\n",
    "\n",
    "        self.add(Conv2D(384, kernel_size=(3,3), strides= 1,\n",
    "                        padding= 'same', activation= 'relu',\n",
    "                        kernel_initializer= 'he_normal'))\n",
    "\n",
    "        self.add(Conv2D(256, kernel_size=(3,3), strides= 1,\n",
    "                        padding= 'same', activation= 'relu',\n",
    "                        kernel_initializer= 'he_normal'))\n",
    "\n",
    "        self.add(MaxPooling2D(pool_size=(3,3), strides= (2,2),\n",
    "                              padding= 'same', data_format= None))\n",
    "\n",
    "        self.add(Flatten())\n",
    "        self.add(Dense(4096, activation= 'relu'))\n",
    "        self.add(Dense(4096, activation= 'relu'))\n",
    "        self.add(Dense(1000, activation= 'relu'))\n",
    "        self.add(Dense(num_classes, activation= 'softmax'))"
   ]
  },
  {
   "cell_type": "code",
   "execution_count": 13,
   "metadata": {
    "id": "8wNObSVPAM0L"
   },
   "outputs": [],
   "source": [
    "#Menunjukan banyak kelas\n",
    "model = AlexNet((50, 50, 3), 5)"
   ]
  },
  {
   "cell_type": "code",
   "execution_count": 14,
   "metadata": {
    "colab": {
     "base_uri": "https://localhost:8080/"
    },
    "id": "SErfTY7qBiVX",
    "outputId": "29149c41-1e18-488b-d525-63f1cd07a976"
   },
   "outputs": [
    {
     "name": "stdout",
     "output_type": "stream",
     "text": [
      "Model: \"alex_net\"\n",
      "_________________________________________________________________\n",
      " Layer (type)                Output Shape              Param #   \n",
      "=================================================================\n",
      " conv2d (Conv2D)             (None, 13, 13, 96)        34944     \n",
      "                                                                 \n",
      " max_pooling2d (MaxPooling2D  (None, 7, 7, 96)         0         \n",
      " )                                                               \n",
      "                                                                 \n",
      " conv2d_1 (Conv2D)           (None, 7, 7, 256)         614656    \n",
      "                                                                 \n",
      " max_pooling2d_1 (MaxPooling  (None, 4, 4, 256)        0         \n",
      " 2D)                                                             \n",
      "                                                                 \n",
      " conv2d_2 (Conv2D)           (None, 4, 4, 384)         885120    \n",
      "                                                                 \n",
      " conv2d_3 (Conv2D)           (None, 4, 4, 384)         1327488   \n",
      "                                                                 \n",
      " conv2d_4 (Conv2D)           (None, 4, 4, 256)         884992    \n",
      "                                                                 \n",
      " max_pooling2d_2 (MaxPooling  (None, 2, 2, 256)        0         \n",
      " 2D)                                                             \n",
      "                                                                 \n",
      " flatten (Flatten)           (None, 1024)              0         \n",
      "                                                                 \n",
      " dense (Dense)               (None, 4096)              4198400   \n",
      "                                                                 \n",
      " dense_1 (Dense)             (None, 4096)              16781312  \n",
      "                                                                 \n",
      " dense_2 (Dense)             (None, 1000)              4097000   \n",
      "                                                                 \n",
      " dense_3 (Dense)             (None, 5)                 5005      \n",
      "                                                                 \n",
      "=================================================================\n",
      "Total params: 28,828,917\n",
      "Trainable params: 28,828,917\n",
      "Non-trainable params: 0\n",
      "_________________________________________________________________\n"
     ]
    }
   ],
   "source": [
    "#Setting hyperparameter\n",
    "from keras.optimizers import Adamax\n",
    "opt = Adamax (learning_rate=0.0001)\n",
    "model.compile(loss='categorical_crossentropy', optimizer=opt, metrics=['accuracy'])\n",
    "model.summary()"
   ]
  },
  {
   "cell_type": "code",
   "execution_count": 15,
   "metadata": {
    "colab": {
     "base_uri": "https://localhost:8080/"
    },
    "id": "ifRyK00xCBee",
    "outputId": "90751fa6-ec6f-46fa-b910-9ceb0a563ee7"
   },
   "outputs": [
    {
     "name": "stdout",
     "output_type": "stream",
     "text": [
      "Epoch 1/50\n",
      "71/71 [==============================] - 10s 24ms/step - loss: 1.6116 - accuracy: 0.2631 - val_loss: 1.4187 - val_accuracy: 0.3787\n",
      "Epoch 2/50\n",
      "71/71 [==============================] - 1s 16ms/step - loss: 1.2832 - accuracy: 0.4693 - val_loss: 1.1027 - val_accuracy: 0.6000\n",
      "Epoch 3/50\n",
      "71/71 [==============================] - 1s 16ms/step - loss: 1.1133 - accuracy: 0.5467 - val_loss: 0.9910 - val_accuracy: 0.5920\n",
      "Epoch 4/50\n",
      "71/71 [==============================] - 1s 16ms/step - loss: 0.9356 - accuracy: 0.6267 - val_loss: 0.9743 - val_accuracy: 0.6107\n",
      "Epoch 5/50\n",
      "71/71 [==============================] - 1s 16ms/step - loss: 1.0072 - accuracy: 0.5964 - val_loss: 0.8250 - val_accuracy: 0.6933\n",
      "Epoch 6/50\n",
      "71/71 [==============================] - 1s 17ms/step - loss: 0.8146 - accuracy: 0.6791 - val_loss: 0.8090 - val_accuracy: 0.7200\n",
      "Epoch 7/50\n",
      "71/71 [==============================] - 1s 18ms/step - loss: 0.7849 - accuracy: 0.6933 - val_loss: 0.7748 - val_accuracy: 0.7467\n",
      "Epoch 8/50\n",
      "71/71 [==============================] - 1s 18ms/step - loss: 0.6463 - accuracy: 0.7529 - val_loss: 0.6949 - val_accuracy: 0.7040\n",
      "Epoch 9/50\n",
      "71/71 [==============================] - 1s 16ms/step - loss: 0.6197 - accuracy: 0.7778 - val_loss: 0.6024 - val_accuracy: 0.7787\n",
      "Epoch 10/50\n",
      "71/71 [==============================] - 1s 19ms/step - loss: 0.5278 - accuracy: 0.8240 - val_loss: 0.6027 - val_accuracy: 0.7893\n",
      "Epoch 11/50\n",
      "71/71 [==============================] - 1s 20ms/step - loss: 0.4441 - accuracy: 0.8569 - val_loss: 0.5496 - val_accuracy: 0.7893\n",
      "Epoch 12/50\n",
      "71/71 [==============================] - 1s 20ms/step - loss: 0.4839 - accuracy: 0.8204 - val_loss: 0.4988 - val_accuracy: 0.8160\n",
      "Epoch 13/50\n",
      "71/71 [==============================] - 1s 16ms/step - loss: 0.4278 - accuracy: 0.8489 - val_loss: 0.4563 - val_accuracy: 0.8507\n",
      "Epoch 14/50\n",
      "71/71 [==============================] - 1s 16ms/step - loss: 0.3163 - accuracy: 0.9004 - val_loss: 0.5033 - val_accuracy: 0.8267\n",
      "Epoch 15/50\n",
      "71/71 [==============================] - 1s 17ms/step - loss: 0.3259 - accuracy: 0.8800 - val_loss: 0.4476 - val_accuracy: 0.8320\n",
      "Epoch 16/50\n",
      "71/71 [==============================] - 1s 16ms/step - loss: 0.2692 - accuracy: 0.9129 - val_loss: 0.4500 - val_accuracy: 0.8400\n",
      "Epoch 17/50\n",
      "71/71 [==============================] - 1s 16ms/step - loss: 0.3115 - accuracy: 0.8924 - val_loss: 0.3550 - val_accuracy: 0.8720\n",
      "Epoch 18/50\n",
      "71/71 [==============================] - 1s 17ms/step - loss: 0.2171 - accuracy: 0.9351 - val_loss: 0.3452 - val_accuracy: 0.8800\n",
      "Epoch 19/50\n",
      "71/71 [==============================] - 1s 16ms/step - loss: 0.2441 - accuracy: 0.9093 - val_loss: 0.3476 - val_accuracy: 0.8827\n",
      "Epoch 20/50\n",
      "71/71 [==============================] - 1s 16ms/step - loss: 0.1927 - accuracy: 0.9342 - val_loss: 0.3882 - val_accuracy: 0.8613\n",
      "Epoch 21/50\n",
      "71/71 [==============================] - 1s 16ms/step - loss: 0.1625 - accuracy: 0.9440 - val_loss: 0.2510 - val_accuracy: 0.9307\n",
      "Epoch 22/50\n",
      "71/71 [==============================] - 1s 16ms/step - loss: 0.1233 - accuracy: 0.9662 - val_loss: 0.2549 - val_accuracy: 0.9227\n",
      "Epoch 23/50\n",
      "71/71 [==============================] - 1s 16ms/step - loss: 0.1181 - accuracy: 0.9582 - val_loss: 0.2055 - val_accuracy: 0.9360\n",
      "Epoch 24/50\n",
      "71/71 [==============================] - 1s 17ms/step - loss: 0.1267 - accuracy: 0.9582 - val_loss: 0.3250 - val_accuracy: 0.8853\n",
      "Epoch 25/50\n",
      "71/71 [==============================] - 1s 17ms/step - loss: 0.0730 - accuracy: 0.9822 - val_loss: 0.3098 - val_accuracy: 0.9120\n",
      "Epoch 26/50\n",
      "71/71 [==============================] - 1s 16ms/step - loss: 0.0472 - accuracy: 0.9884 - val_loss: 0.2030 - val_accuracy: 0.9360\n",
      "Epoch 27/50\n",
      "71/71 [==============================] - 1s 16ms/step - loss: 0.0445 - accuracy: 0.9902 - val_loss: 0.2890 - val_accuracy: 0.9147\n",
      "Epoch 28/50\n",
      "71/71 [==============================] - 1s 16ms/step - loss: 0.0595 - accuracy: 0.9849 - val_loss: 0.3011 - val_accuracy: 0.9200\n",
      "Epoch 29/50\n",
      "71/71 [==============================] - 1s 16ms/step - loss: 0.0865 - accuracy: 0.9733 - val_loss: 0.3544 - val_accuracy: 0.9067\n",
      "Epoch 30/50\n",
      "71/71 [==============================] - 1s 17ms/step - loss: 0.0463 - accuracy: 0.9884 - val_loss: 0.2298 - val_accuracy: 0.9280\n",
      "Epoch 31/50\n",
      "71/71 [==============================] - 1s 16ms/step - loss: 0.0350 - accuracy: 0.9920 - val_loss: 0.3854 - val_accuracy: 0.9093\n",
      "Epoch 32/50\n",
      "71/71 [==============================] - 1s 16ms/step - loss: 0.0477 - accuracy: 0.9867 - val_loss: 0.2592 - val_accuracy: 0.9387\n",
      "Epoch 33/50\n",
      "71/71 [==============================] - 1s 16ms/step - loss: 0.0436 - accuracy: 0.9893 - val_loss: 0.2098 - val_accuracy: 0.9360\n",
      "Epoch 34/50\n",
      "71/71 [==============================] - 1s 16ms/step - loss: 0.0454 - accuracy: 0.9884 - val_loss: 0.2645 - val_accuracy: 0.9333\n",
      "Epoch 35/50\n",
      "71/71 [==============================] - 1s 17ms/step - loss: 0.0557 - accuracy: 0.9787 - val_loss: 0.1753 - val_accuracy: 0.9627\n",
      "Epoch 36/50\n",
      "71/71 [==============================] - 1s 16ms/step - loss: 0.0150 - accuracy: 0.9982 - val_loss: 0.1935 - val_accuracy: 0.9600\n",
      "Epoch 37/50\n",
      "71/71 [==============================] - 1s 16ms/step - loss: 0.0074 - accuracy: 1.0000 - val_loss: 0.2212 - val_accuracy: 0.9467\n",
      "Epoch 38/50\n",
      "71/71 [==============================] - 1s 16ms/step - loss: 0.0060 - accuracy: 1.0000 - val_loss: 0.2135 - val_accuracy: 0.9440\n",
      "Epoch 39/50\n",
      "71/71 [==============================] - 1s 16ms/step - loss: 0.0026 - accuracy: 1.0000 - val_loss: 0.2159 - val_accuracy: 0.9467\n",
      "Epoch 40/50\n",
      "71/71 [==============================] - 1s 16ms/step - loss: 0.0023 - accuracy: 1.0000 - val_loss: 0.1905 - val_accuracy: 0.9493\n",
      "Epoch 41/50\n",
      "71/71 [==============================] - 1s 16ms/step - loss: 0.0021 - accuracy: 1.0000 - val_loss: 0.2102 - val_accuracy: 0.9413\n",
      "Epoch 42/50\n",
      "71/71 [==============================] - 1s 16ms/step - loss: 0.0018 - accuracy: 1.0000 - val_loss: 0.1940 - val_accuracy: 0.9520\n",
      "Epoch 43/50\n",
      "71/71 [==============================] - 1s 16ms/step - loss: 0.0013 - accuracy: 1.0000 - val_loss: 0.2030 - val_accuracy: 0.9493\n",
      "Epoch 44/50\n",
      "71/71 [==============================] - 1s 17ms/step - loss: 0.0012 - accuracy: 1.0000 - val_loss: 0.1988 - val_accuracy: 0.9520\n",
      "Epoch 45/50\n",
      "71/71 [==============================] - 1s 17ms/step - loss: 0.0013 - accuracy: 1.0000 - val_loss: 0.2068 - val_accuracy: 0.9413\n",
      "Epoch 46/50\n",
      "71/71 [==============================] - 1s 16ms/step - loss: 9.8914e-04 - accuracy: 1.0000 - val_loss: 0.2080 - val_accuracy: 0.9493\n",
      "Epoch 47/50\n",
      "71/71 [==============================] - 1s 16ms/step - loss: 0.1248 - accuracy: 0.9556 - val_loss: 0.4528 - val_accuracy: 0.8693\n",
      "Epoch 48/50\n",
      "71/71 [==============================] - 1s 16ms/step - loss: 0.0663 - accuracy: 0.9831 - val_loss: 0.2575 - val_accuracy: 0.9333\n",
      "Epoch 49/50\n",
      "71/71 [==============================] - 1s 16ms/step - loss: 0.0067 - accuracy: 1.0000 - val_loss: 0.2095 - val_accuracy: 0.9467\n",
      "Epoch 50/50\n",
      "71/71 [==============================] - 1s 16ms/step - loss: 0.0124 - accuracy: 0.9973 - val_loss: 0.2346 - val_accuracy: 0.9493\n"
     ]
    }
   ],
   "source": [
    "#Training data\n",
    "\n",
    "H = model.fit(trainX, trainY, validation_data=(testX, testY), epochs=50, batch_size=16)"
   ]
  },
  {
   "cell_type": "code",
   "execution_count": 19,
   "metadata": {
    "colab": {
     "base_uri": "https://localhost:8080/",
     "height": 590
    },
    "id": "Npp5Oe1wCI_J",
    "outputId": "efcf5140-e74b-4c9d-f49b-f76590c3e700"
   },
   "outputs": [
    {
     "name": "stdout",
     "output_type": "stream",
     "text": [
      "dict_keys(['loss', 'accuracy', 'val_loss', 'val_accuracy'])\n"
     ]
    },
    {
     "data": {
      "image/png": "[encoded data removed]",
      "text/plain": [
       "<Figure size 432x288 with 1 Axes>"
      ]
     },
     "metadata": {
      "needs_background": "light"
     },
     "output_type": "display_data"
    },
    {
     "data": {
      "image/png": "[encoded data removed]",
      "text/plain": [
       "<Figure size 432x288 with 1 Axes>"
      ]
     },
     "metadata": {
      "needs_background": "light"
     },
     "output_type": "display_data"
    }
   ],
   "source": [
    "import matplotlib.pyplot as plt\n",
    "\n",
    "print(H.history.keys())\n",
    "# summarize history for accuracy\n",
    "plt.plot(H.history['accuracy'])\n",
    "plt.plot(H.history['val_accuracy'])\n",
    "plt.title('MODEL ACCURACY')\n",
    "plt.ylabel('Accuracy')\n",
    "plt.xlabel('Epoch')\n",
    "plt.legend(['Training Data', 'Testing Data'], loc='lower right')\n",
    "X = np.linspace(0, 100, 100)\n",
    "plt.ylim(.1, 1.1)\n",
    "plt.show()\n",
    "# summarize history for loss\n",
    "plt.plot(H.history['loss'])\n",
    "plt.plot(H.history['val_loss'])\n",
    "plt.title('MODEL LOSS')\n",
    "plt.ylabel('Loss')\n",
    "plt.xlabel('Epoch')\n",
    "plt.legend(['Training Data', 'Testing Data'], loc='upper right')\n",
    "X = np.linspace(0, 100, 100)\n",
    "plt.ylim(-0.25, 1.75)\n",
    "plt.show()"
   ]
  },
  {
   "cell_type": "code",
   "execution_count": 17,
   "metadata": {
    "colab": {
     "base_uri": "https://localhost:8080/"
    },
    "id": "X_chN8nfCQ0c",
    "outputId": "06b52ecb-4ea8-45c3-c848-ddbe714fadbb"
   },
   "outputs": [
    {
     "name": "stdout",
     "output_type": "stream",
     "text": [
      "[INFO] evaluating network...\n",
      "24/24 [==============================] - 0s 5ms/step\n",
      "[[9.9925822e-01 7.4138411e-04 2.9661823e-07 1.1520551e-07 4.6530147e-08]\n",
      " [1.2963405e-04 1.8695218e-08 9.8644388e-01 3.0628448e-07 1.3426130e-02]\n",
      " [1.1322881e-05 9.9513865e-01 4.1396738e-06 4.2001014e-03 6.4586836e-04]\n",
      " ...\n",
      " [9.9959224e-01 5.2314300e-07 1.5085338e-07 4.0370072e-09 4.0712455e-04]\n",
      " [1.1818573e-07 2.4817392e-04 4.5334114e-06 9.9882132e-01 9.2590676e-04]\n",
      " [6.5262702e-07 1.1831972e-06 2.7145719e-04 9.9336159e-01 6.3650724e-03]]\n",
      "[[1 0 0 0 0]\n",
      " [0 0 1 0 0]\n",
      " [0 1 0 0 0]\n",
      " ...\n",
      " [1 0 0 0 0]\n",
      " [0 0 0 1 0]\n",
      " [0 0 0 1 0]]\n",
      "                precision    recall  f1-score   support\n",
      "\n",
      " Scabies (300)       0.93      0.98      0.96        65\n",
      "Varisela (300)       0.97      0.89      0.93        75\n",
      "    Acne (300)       0.95      0.98      0.96        84\n",
      "  Normal (300)       1.00      1.00      1.00        81\n",
      " Rubeola (300)       0.89      0.89      0.89        70\n",
      "\n",
      "      accuracy                           0.95       375\n",
      "     macro avg       0.95      0.95      0.95       375\n",
      "  weighted avg       0.95      0.95      0.95       375\n",
      "\n"
     ]
    }
   ],
   "source": [
    "# evaluate the network\n",
    "print(\"[INFO] evaluating network...\")\n",
    "target_names=['Scabies (300)','Varisela (300)','Acne (300)','Normal (300)','Rubeola (300)']\n",
    "predictions = model.predict(testX, batch_size=16)\n",
    "print(predictions)\n",
    "print(testY)\n",
    "print(classification_report(testY.argmax(axis=1),\n",
    "  predictions.argmax(axis=1), target_names=target_names))"
   ]
  }
 ],
 "metadata": {
  "accelerator": "GPU",
  "colab": {
   "provenance": []
  },
  "gpuClass": "standard",
  "kernelspec": {
   "display_name": "Python 3 (ipykernel)",
   "language": "python",
   "name": "python3"
  },
  "language_info": {
   "codemirror_mode": {
    "name": "ipython",
    "version": 3
   },
   "file_extension": ".py",
   "mimetype": "text/x-python",
   "name": "python",
   "nbconvert_exporter": "python",
   "pygments_lexer": "ipython3",
   "version": "3.11.4"
  }
 },
 "nbformat": 4,
 "nbformat_minor": 1
}
