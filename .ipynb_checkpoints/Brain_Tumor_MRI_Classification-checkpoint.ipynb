{
 "cells": [
  {
   "cell_type": "code",
   "execution_count": 1,
   "id": "2e197136-69b3-476c-b2a5-3d0d5b654962",
   "metadata": {},
   "outputs": [
    {
     "name": "stderr",
     "output_type": "stream",
     "text": [
      "2023-07-26 14:34:15.236880: I tensorflow/tsl/cuda/cudart_stub.cc:28] Could not find cuda drivers on your machine, GPU will not be used.\n",
      "2023-07-26 14:34:15.312547: I tensorflow/tsl/cuda/cudart_stub.cc:28] Could not find cuda drivers on your machine, GPU will not be used.\n",
      "2023-07-26 14:34:15.313876: I tensorflow/core/platform/cpu_feature_guard.cc:182] This TensorFlow binary is optimized to use available CPU instructions in performance-critical operations.\n",
      "To enable the following instructions: AVX2 FMA, in other operations, rebuild TensorFlow with the appropriate compiler flags.\n",
      "2023-07-26 14:34:16.477781: W tensorflow/compiler/tf2tensorrt/utils/py_utils.cc:38] TF-TRT Warning: Could not find TensorRT\n"
     ]
    }
   ],
   "source": [
    "import pandas as pd \n",
    "import numpy as np \n",
    "from matplotlib import pyplot as plt\n",
    "import seaborn as sns\n",
    "\n",
    "plt.style.use('ggplot')\n",
    "\n",
    "import os \n",
    "import random\n",
    "\n",
    "from sklearn.model_selection import train_test_split\n",
    "from sklearn.metrics import confusion_matrix, classification_report\n",
    "import cv2\n",
    "\n",
    "import tensorflow as tf \n",
    "from tensorflow.keras.preprocessing.image import ImageDataGenerator\n",
    "from tensorflow.keras.callbacks import EarlyStopping, ModelCheckpoint\n"
   ]
  },
  {
   "cell_type": "code",
   "execution_count": 2,
   "id": "af33f876-b7d9-4292-a6b2-90b588983ddf",
   "metadata": {},
   "outputs": [],
   "source": [
    "BASEDIR = os.getcwd()\n",
    "DATADIR = os.path.join(BASEDIR, 'data')"
   ]
  },
  {
   "cell_type": "code",
   "execution_count": 3,
   "id": "27acf260-9ec7-40ff-a16f-8fd5d86ccdc6",
   "metadata": {},
   "outputs": [
    {
     "data": {
      "text/plain": [
       "'/home/dhakal/BTC_TF/data'"
      ]
     },
     "execution_count": 3,
     "metadata": {},
     "output_type": "execute_result"
    }
   ],
   "source": [
    "DATADIR"
   ]
  },
  {
   "cell_type": "code",
   "execution_count": 5,
   "id": "ce9c4e27-51bc-403e-8040-ddb6f4ab7e81",
   "metadata": {},
   "outputs": [],
   "source": [
    "for dirs in [DATADIR]:\n",
    "    filepaths = []\n",
    "    labels = []\n",
    "    classes_list = sorted(os.listdir(dirs))\n",
    "    for s_class in classes_list:\n",
    "        label = s_class\n",
    "        classpath = os.path.join(dirs,s_class)\n",
    "        f_list = sorted(os.listdir(classpath))\n",
    "        for file in f_list:\n",
    "            file_path = os.path.join(classpath,file)\n",
    "            filepaths.append(file_path)\n",
    "            labels.append(label)"
   ]
  },
  {
   "cell_type": "code",
   "execution_count": 13,
   "id": "bbd12f33-8815-4575-952e-33c6d119cdbe",
   "metadata": {},
   "outputs": [],
   "source": [
    "main_df = pd.DataFrame({'image_path' : filepaths, 'label': labels})"
   ]
  },
  {
   "cell_type": "code",
   "execution_count": 14,
   "id": "ac96a7d7-656c-4fb3-951d-602010c65bdf",
   "metadata": {},
   "outputs": [
    {
     "data": {
      "text/html": [
       "<div>\n",
       "<style scoped>\n",
       "    .dataframe tbody tr th:only-of-type {\n",
       "        vertical-align: middle;\n",
       "    }\n",
       "\n",
       "    .dataframe tbody tr th {\n",
       "        vertical-align: top;\n",
       "    }\n",
       "\n",
       "    .dataframe thead th {\n",
       "        text-align: right;\n",
       "    }\n",
       "</style>\n",
       "<table border=\"1\" class=\"dataframe\">\n",
       "  <thead>\n",
       "    <tr style=\"text-align: right;\">\n",
       "      <th></th>\n",
       "      <th>image_path</th>\n",
       "      <th>label</th>\n",
       "    </tr>\n",
       "  </thead>\n",
       "  <tbody>\n",
       "    <tr>\n",
       "      <th>0</th>\n",
       "      <td>/home/dhakal/BTC_TF/data/Astrocitoma T1/005_bi...</td>\n",
       "      <td>Astrocitoma T1</td>\n",
       "    </tr>\n",
       "    <tr>\n",
       "      <th>1</th>\n",
       "      <td>/home/dhakal/BTC_TF/data/Astrocitoma T1/006_bi...</td>\n",
       "      <td>Astrocitoma T1</td>\n",
       "    </tr>\n",
       "    <tr>\n",
       "      <th>2</th>\n",
       "      <td>/home/dhakal/BTC_TF/data/Astrocitoma T1/01809e...</td>\n",
       "      <td>Astrocitoma T1</td>\n",
       "    </tr>\n",
       "    <tr>\n",
       "      <th>3</th>\n",
       "      <td>/home/dhakal/BTC_TF/data/Astrocitoma T1/02df13...</td>\n",
       "      <td>Astrocitoma T1</td>\n",
       "    </tr>\n",
       "    <tr>\n",
       "      <th>4</th>\n",
       "      <td>/home/dhakal/BTC_TF/data/Astrocitoma T1/044d8d...</td>\n",
       "      <td>Astrocitoma T1</td>\n",
       "    </tr>\n",
       "  </tbody>\n",
       "</table>\n",
       "</div>"
      ],
      "text/plain": [
       "                                          image_path           label\n",
       "0  /home/dhakal/BTC_TF/data/Astrocitoma T1/005_bi...  Astrocitoma T1\n",
       "1  /home/dhakal/BTC_TF/data/Astrocitoma T1/006_bi...  Astrocitoma T1\n",
       "2  /home/dhakal/BTC_TF/data/Astrocitoma T1/01809e...  Astrocitoma T1\n",
       "3  /home/dhakal/BTC_TF/data/Astrocitoma T1/02df13...  Astrocitoma T1\n",
       "4  /home/dhakal/BTC_TF/data/Astrocitoma T1/044d8d...  Astrocitoma T1"
      ]
     },
     "execution_count": 14,
     "metadata": {},
     "output_type": "execute_result"
    }
   ],
   "source": [
    "main_df.head()"
   ]
  },
  {
   "cell_type": "code",
   "execution_count": 15,
   "id": "949f1222-969c-4f07-90e8-4c8f77069319",
   "metadata": {},
   "outputs": [
    {
     "data": {
      "text/plain": [
       "44"
      ]
     },
     "execution_count": 15,
     "metadata": {},
     "output_type": "execute_result"
    }
   ],
   "source": [
    "len(main_df['label'].unique())"
   ]
  },
  {
   "cell_type": "code",
   "execution_count": 16,
   "id": "4fe29057-c2c4-408b-8c0f-ec601031a98c",
   "metadata": {},
   "outputs": [
    {
     "data": {
      "text/plain": [
       "(4479, 2)"
      ]
     },
     "execution_count": 16,
     "metadata": {},
     "output_type": "execute_result"
    }
   ],
   "source": [
    "main_df.shape"
   ]
  },
  {
   "cell_type": "code",
   "execution_count": 18,
   "id": "d4100ccf-d70b-40db-81ee-c3b4036adeec",
   "metadata": {
    "scrolled": true
   },
   "outputs": [
    {
     "data": {
      "text/plain": [
       "label\n",
       "Meningioma T1C+           369\n",
       "Meningioma T1             272\n",
       "_NORMAL T2                271\n",
       "_NORMAL T1                251\n",
       "Astrocitoma T1C+          233\n",
       "Meningioma T2             233\n",
       "Neurocitoma T1C+          223\n",
       "Schwannoma T1C+           194\n",
       "Astrocitoma T1            176\n",
       "Astrocitoma T2            171\n",
       "Schwannoma T1             148\n",
       "Neurocitoma T1            130\n",
       "Schwannoma T2             123\n",
       "Carcinoma T1C+            112\n",
       "Papiloma T1C+             108\n",
       "Neurocitoma T2            104\n",
       "Glioblastoma T1C+          94\n",
       "Oligodendroglioma T1       86\n",
       "Tuberculoma T1C+           84\n",
       "Carcinoma T2               73\n",
       "Oligodendroglioma T1C+     72\n",
       "Meduloblastoma T1C+        67\n",
       "Papiloma T1                66\n",
       "Oligodendroglioma T2       66\n",
       "Carcinoma T1               66\n",
       "Papiloma T2                63\n",
       "Ependimoma T2              57\n",
       "Glioblastoma T2            55\n",
       "Glioblastoma T1            55\n",
       "Ependimoma T1C+            48\n",
       "Ependimoma T1              45\n",
       "Meduloblastoma T2          41\n",
       "Germinoma T1C+             40\n",
       "Tuberculoma T2             33\n",
       "Germinoma T2               33\n",
       "Granuloma T1C+             31\n",
       "Granuloma T1               30\n",
       "Tuberculoma T1             28\n",
       "Germinoma T1               27\n",
       "Ganglioglioma T2           23\n",
       "Meduloblastoma T1          23\n",
       "Ganglioglioma T1           20\n",
       "Ganglioglioma T1C+         18\n",
       "Granuloma T2               17\n",
       "Name: count, dtype: int64"
      ]
     },
     "execution_count": 18,
     "metadata": {},
     "output_type": "execute_result"
    }
   ],
   "source": [
    "main_df['label'].value_counts()"
   ]
  },
  {
   "cell_type": "code",
   "execution_count": null,
   "id": "ec4166d3-3519-4763-af5b-6e997dd59e6f",
   "metadata": {},
   "outputs": [],
   "source": []
  }
 ],
 "metadata": {
  "kernelspec": {
   "display_name": "Python 3 (ipykernel)",
   "language": "python",
   "name": "python3"
  },
  "language_info": {
   "codemirror_mode": {
    "name": "ipython",
    "version": 3
   },
   "file_extension": ".py",
   "mimetype": "text/x-python",
   "name": "python",
   "nbconvert_exporter": "python",
   "pygments_lexer": "ipython3",
   "version": "3.9.17"
  }
 },
 "nbformat": 4,
 "nbformat_minor": 5
}
